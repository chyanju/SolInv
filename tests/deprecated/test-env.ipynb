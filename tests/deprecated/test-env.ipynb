{
 "cells": [
  {
   "cell_type": "code",
   "execution_count": 1,
   "id": "2c4dc21a-6a38-4555-9d67-c7ca4a8813b5",
   "metadata": {},
   "outputs": [],
   "source": [
    "import argparse\n",
    "import numpy as np\n",
    "import os\n",
    "import random\n",
    "\n",
    "# ray related utils\n",
    "import ray\n",
    "from ray import tune\n",
    "from ray.rllib.agents import ppo, dqn\n",
    "from ray.rllib.models import ModelCatalog\n",
    "from ray.tune.logger import pretty_print\n",
    "\n",
    "# trinity related utils\n",
    "import solinv.tyrell.spec as S\n",
    "import solinv.tyrell.dsl as D\n",
    "from solinv.tyrell.interpreter import InvariantInterpreter\n",
    "from solinv.environment import InvariantEnvironment\n",
    "from solinv.model import InvariantTGN"
   ]
  },
  {
   "cell_type": "code",
   "execution_count": 2,
   "id": "bba88e70-4ede-44b3-8a1e-b92d8bb45b4e",
   "metadata": {},
   "outputs": [],
   "source": [
    "spec = S.parse_file(\"./dsls/abstract0.tyrell\")\n",
    "start_type = spec.get_type(\"Expr\")\n",
    "interpreter = InvariantInterpreter()\n",
    "env_config = {\n",
    "    \"spec\": spec,\n",
    "    \"start_type\": start_type,\n",
    "    \"max_step\": 6,\n",
    "    # version options are: 0.4.26, 0.5.17, 0.6.12\n",
    "    \"contracts\": [\n",
    "        # (\"./benchmarks/mint_MI.sol\", \"0.5.17\"),\n",
    "\n",
    "        (\"./benchmarks/easy/0x1ccaa0f2a7210d76e1fdec740d5f323e2e1b1672.sol\", \"0.4.26\"), # stovars: 9\n",
    "        (\"./benchmarks/easy/0x28b5e12cce51f15594b0b91d5b5adaa70f684a02.sol\", \"0.4.26\"), # stovars: 9\n",
    "        (\"./benchmarks/easy/0x6704b673c70de9bf74c8fba4b4bd748f0e2190e1.sol\", \"0.4.26\"), # stovars: 8\n",
    "        (\"./benchmarks/easy/0x6745fab6801e376cd24f03572b9c9b0d4edddccf.sol\", \"0.4.26\"), # stovars: 8\n",
    "        (\"./benchmarks/easy/0x8971f9fd7196e5cee2c1032b50f656855af7dd26.sol\", \"0.4.26\"), # stovars: 8\n",
    "        (\"./benchmarks/easy/0x9041fe5b3fdea0f5e4afdc17e75180738d877a01.sol\", \"0.4.26\"), # stovars: 7\n",
    "\n",
    "        # (\"./benchmarks/easy/0x5e6016ae7d7c49d347dcf834860b9f3ee282812b.sol\", \"0.4.26\"), # stovars: 21\n",
    "        # (\"./benchmarks/easy/0x286BDA1413a2Df81731D4930ce2F862a35A609fE.sol\", \"0.4.26\"), # stovars: 11\n",
    "\n",
    "        # fixme: NotImplementedError: Unsupported nodeType, got: UserDefinedTypeName.\n",
    "        # (\"./benchmarks/easy/0x888666CA69E0f178DED6D75b5726Cee99A87D698.sol\", \"0.4.26\"),\n",
    "    ],\n",
    "    \"interpreter\": interpreter\n",
    "}\n",
    "# need to construct the vocab first to provide parameters for nn\n",
    "tmp_environment = InvariantEnvironment(config=env_config)"
   ]
  },
  {
   "cell_type": "code",
   "execution_count": 3,
   "id": "9fcecc51-d8aa-49a5-9c16-6dda33e2fba9",
   "metadata": {},
   "outputs": [],
   "source": [
    "res = tmp_environment.reset()"
   ]
  },
  {
   "cell_type": "code",
   "execution_count": 4,
   "id": "5f7878d0-4cab-4bed-822b-fbf0f40c16ee",
   "metadata": {},
   "outputs": [
    {
     "data": {
      "text/plain": [
       "dict_keys([5, 3])"
      ]
     },
     "execution_count": 4,
     "metadata": {},
     "output_type": "execute_result"
    }
   ],
   "source": [
    "InvariantEnvironment.cached_contract_utils.keys()"
   ]
  },
  {
   "cell_type": "code",
   "execution_count": 6,
   "id": "89211904-5614-40fa-95c9-5778b43867a3",
   "metadata": {},
   "outputs": [
    {
     "data": {
      "text/plain": [
       "{'x': tensor([46, 38, 46, 31, 38, 46, 39, 31, 38, 31, 38, 31, 46, 31, 30, 30, 29, 37,\n",
       "         38, 46, 29, 37, 38, 29, 37, 38, 46, 31, 44, 47, 44, 44, 46, 44, 47, 44,\n",
       "         31, 40, 31, 32, 32, 32, 29, 29, 17, 29, 36, 29,  1, 29,  5,  6,  1, 29,\n",
       "         35,  1, 43, 32, 29, 24, 29,  1, 29,  5,  6,  1, 29, 22, 29,  1,  1,  1,\n",
       "         29, 32, 29,  5,  6,  1,  1,  1, 29, 39, 32, 29, 29, 17, 29, 17, 29, 36,\n",
       "         29,  1,  1,  1, 29, 36, 29, 29,  1,  1, 29,  5,  6,  1, 29, 35,  1, 43,\n",
       "         32, 29, 22, 29,  1,  1,  1, 29, 24, 29,  1,  1,  1, 29, 24, 29, 29,  1,\n",
       "          1, 29,  5,  6,  1, 29, 32,  1,  1,  1,  1, 29, 39, 32, 29, 29,  1,  1,\n",
       "         32, 29, 33, 29, 29,  1, 29,  5,  6,  1,  1, 29, 32, 29,  5,  6,  1,  1,\n",
       "          1, 29, 39, 32, 29, 29, 29,  1,  1,  1, 32, 32, 29, 11, 32, 29, 33, 29,\n",
       "          1, 29,  5,  6,  1, 29, 33,  1,  1, 29, 33,  1,  1, 29, 33,  1,  1, 29,\n",
       "         33,  1,  1, 32, 29, 33, 29, 29,  1, 29,  5,  6,  1,  1, 29, 32, 29,  5,\n",
       "          6,  1,  1,  1, 29, 32, 29, 32, 29, 32, 29, 32, 29, 32, 44, 12, 41, 42,\n",
       "         29,  5,  6,  1, 10,  1, 29, 13,  1,  3, 29, 39]),\n",
       " 'edge_attr': tensor([86, 78, 88, 86, 78, 86, 78, 88, 88, 82, 82,  2, 70, 81, 75, 76, 79,  2,\n",
       "         83, 79, 82,  2, 79, 83, 83, 74, 82,  2, 70, 81, 75, 76, 80,  2, 84, 82,\n",
       "          2, 70,  2, 76, 80,  2, 84, 81, 75,  2,  2, 49, 50, 51, 69,  2, 75, 75,\n",
       "         49, 50, 51, 52, 87, 49, 82, 82, 82,  2, 70,  2, 76, 79,  2, 83, 79, 82,\n",
       "          2, 70,  2, 76, 70, 81, 75, 76, 79,  2, 83, 83, 79, 82,  2, 79, 83, 83,\n",
       "         74, 82,  2, 70,  2, 76, 80,  2, 84, 82,  2, 70,  2, 76, 80,  2, 84, 82,\n",
       "          2, 70,  2, 76, 70, 81, 75, 76, 80,  2, 84,  2,  2,  2, 49, 50, 51, 69,\n",
       "          2, 75, 75, 49, 50, 51, 52, 53, 87, 49,  2, 70,  2, 76, 75, 49, 82,  2,\n",
       "         70, 81, 75, 76, 70,  2, 76, 80,  2, 84, 81, 75,  2,  2, 49, 50, 51, 69,\n",
       "          2, 75, 75, 49, 50, 51,  2, 70,  2, 76, 70,  2, 76, 75, 49, 49, 50, 51,\n",
       "         52, 53, 75, 49, 82,  2, 70, 81, 75, 76, 80,  2, 84, 82,  2, 80,  2, 84,\n",
       "         82,  2, 80,  2, 84, 82,  2, 80,  2, 84, 82,  2, 80,  2, 84, 49, 50, 51,\n",
       "         52, 53, 82,  2, 70, 81, 75, 76, 70,  2, 76, 80,  2, 84, 81, 75,  2,  2,\n",
       "         49, 50, 51, 69,  2, 75, 49, 69, 75, 49, 69, 75, 49, 69, 75, 81, 75,  2,\n",
       "          2, 49, 50, 51, 52, 53, 69, 81,  2, 75, 75, 49, 69, 75, 75, 49, 50, 51,\n",
       "         52, 49, 50, 51, 49, 50]),\n",
       " 'edge_index': tensor([[ 16,  16,  16,  20,  20,  23,  23,  23,  20,  43,  45,  48,  47,  49,\n",
       "           49,  47,  45,  52,  45,  43,  53,  55,  53,  53,  43,  42,  58,  61,\n",
       "           60,  62,  62,  60,  58,  65,  58,  66,  69,  68,  70,  68,  66,  71,\n",
       "           66,  74,  74,  77,  78,  73,  73,  73,  72,  79,  72,  80,  57,  57,\n",
       "           57,  57,  42,  41,  84,  86,  88,  91,  90,  92,  90,  88,  93,  88,\n",
       "           86,  94,  98,  97,  99,  97,  96, 100, 100,  96,  94, 103,  94,  86,\n",
       "           84, 104, 106, 104, 104,  84,  83, 109, 112, 111, 113, 111, 109, 114,\n",
       "          109, 115, 118, 117, 119, 117, 115, 120, 115, 121, 125, 124, 126, 124,\n",
       "          123, 127, 127, 123, 121, 130, 121, 133, 134, 135, 132, 132, 132, 131,\n",
       "          136, 131, 137, 108, 108, 108, 108, 108,  83,  82, 142, 141, 143, 141,\n",
       "          140, 139, 145, 149, 148, 150, 150, 148, 147, 153, 147, 145, 154, 145,\n",
       "          157, 157, 160, 161, 156, 156, 156, 155, 162, 155, 163, 144, 144, 144,\n",
       "          169, 168, 170, 168, 167, 171, 167, 166, 165,  40,  40,  40,  40,  40,\n",
       "          174, 173, 177, 180, 179, 181, 181, 179, 177, 184, 177, 185, 187, 185,\n",
       "          188, 185, 189, 191, 189, 192, 189, 193, 195, 193, 196, 193, 197, 199,\n",
       "          197, 200, 197, 176, 176, 176, 176, 176, 202, 206, 205, 207, 207, 205,\n",
       "          204, 210, 204, 202, 211, 202, 214, 214, 217, 218, 213, 213, 213, 212,\n",
       "          219, 212, 229, 228, 228, 227, 226, 226, 225, 224, 224, 234, 234, 237,\n",
       "          239, 223, 223, 223, 223, 223, 222, 240, 242, 240, 222, 221, 220, 220,\n",
       "          244, 201, 201, 201, 201, 172, 172, 172,  39,  39],\n",
       "         [ 17,  18,  19,  21,  22,  24,  25,  26,  23,  44,  46,  16,  48,  50,\n",
       "           51,  49,  47,   5,  52,  45,  54,   5,  55,  56,  53,  43,  59,  16,\n",
       "           61,  63,  64,  62,  60,   5,  65,  67,  16,  69,   4,  70,  68,   5,\n",
       "           71,  75,  76,   4,   5,  74,  77,  78,  73,  14,  79,  81,  58,  66,\n",
       "           72,  80,  57,  42,  85,  87,  89,  16,  91,   8,  92,  90,   5,  93,\n",
       "           88,  95,  20,  98,   8,  99,  97, 101, 102, 100,  96,   5, 103,  94,\n",
       "           86, 105,   5, 106, 107, 104,  84, 110,  16, 112,   4, 113, 111,   5,\n",
       "          114, 116,  16, 118,   8, 119, 117,   5, 120, 122,  20, 125,   8, 126,\n",
       "          124, 128, 129, 127, 123,   5, 130,   8,   4,   5, 133, 134, 135, 132,\n",
       "           14, 136, 138, 109, 115, 121, 131, 137, 108,  83,  16, 142,   1, 143,\n",
       "          141, 140, 146,  20, 149, 151, 152, 150, 148,  10, 153, 147,   5, 154,\n",
       "          158, 159,  10,   5, 157, 160, 161, 156,  15, 162, 164, 145, 155, 163,\n",
       "           20, 169,   1, 170, 168,  10, 171, 167, 166,  41,  82, 139, 144, 165,\n",
       "          175, 174, 178,  16, 180, 182, 183, 181, 179,  32, 184, 186,   0, 187,\n",
       "           32, 188, 190,  28, 191,  33, 192, 194,  29, 195,  34, 196, 198,  30,\n",
       "          199,  35, 200, 177, 185, 189, 193, 197, 203,  20, 206, 208, 209, 207,\n",
       "          205,  10, 210, 204,   5, 211, 215, 216,  10,   5, 214, 217, 218, 213,\n",
       "           15, 219, 230, 229, 231, 228, 227, 232, 226, 225, 233, 235, 236,   5,\n",
       "           37, 224, 234, 237, 238, 239, 223, 241,  10, 242, 240, 222, 221, 243,\n",
       "          245, 202, 212, 220, 244, 173, 176, 201,  40, 172]])}"
      ]
     },
     "execution_count": 6,
     "metadata": {},
     "output_type": "execute_result"
    }
   ],
   "source": [
    "InvariantEnvironment.cached_contract_utils[5][\"contract_observed\"]"
   ]
  },
  {
   "cell_type": "code",
   "execution_count": 7,
   "id": "78f38b89-24fe-46e7-b381-586d5778b655",
   "metadata": {},
   "outputs": [
    {
     "data": {
      "text/plain": [
       "torch.Size([246])"
      ]
     },
     "execution_count": 7,
     "metadata": {},
     "output_type": "execute_result"
    }
   ],
   "source": [
    "InvariantEnvironment.cached_contract_utils[5][\"contract_observed\"][\"x\"].shape"
   ]
  },
  {
   "cell_type": "code",
   "execution_count": 8,
   "id": "3182309d-7574-4496-98bf-675a74c580dc",
   "metadata": {},
   "outputs": [
    {
     "data": {
      "text/plain": [
       "torch.Size([276])"
      ]
     },
     "execution_count": 8,
     "metadata": {},
     "output_type": "execute_result"
    }
   ],
   "source": [
    "InvariantEnvironment.cached_contract_utils[5][\"contract_observed\"][\"edge_attr\"].shape"
   ]
  },
  {
   "cell_type": "code",
   "execution_count": 9,
   "id": "7b31b142-eb02-46e2-94c5-9b8b7fdb645d",
   "metadata": {},
   "outputs": [
    {
     "data": {
      "text/plain": [
       "torch.Size([2, 276])"
      ]
     },
     "execution_count": 9,
     "metadata": {},
     "output_type": "execute_result"
    }
   ],
   "source": [
    "InvariantEnvironment.cached_contract_utils[5][\"contract_observed\"][\"edge_index\"].shape"
   ]
  },
  {
   "cell_type": "code",
   "execution_count": null,
   "id": "8dbc7c99-09cd-4515-a01f-373663d97cef",
   "metadata": {},
   "outputs": [],
   "source": []
  },
  {
   "cell_type": "code",
   "execution_count": 13,
   "id": "4d649330-79c8-45e5-859b-81d7b32c0e30",
   "metadata": {},
   "outputs": [
    {
     "data": {
      "text/plain": [
       "18"
      ]
     },
     "execution_count": 13,
     "metadata": {},
     "output_type": "execute_result"
    }
   ],
   "source": [
    "len(tmp_environment.action_list)"
   ]
  },
  {
   "cell_type": "code",
   "execution_count": null,
   "id": "f784486d-30cc-4ccd-a126-7ab91bb47dc4",
   "metadata": {},
   "outputs": [],
   "source": []
  }
 ],
 "metadata": {
  "kernelspec": {
   "display_name": "venti",
   "language": "python",
   "name": "venti"
  },
  "language_info": {
   "codemirror_mode": {
    "name": "ipython",
    "version": 3
   },
   "file_extension": ".py",
   "mimetype": "text/x-python",
   "name": "python",
   "nbconvert_exporter": "python",
   "pygments_lexer": "ipython3",
   "version": "3.9.5"
  }
 },
 "nbformat": 4,
 "nbformat_minor": 5
}
