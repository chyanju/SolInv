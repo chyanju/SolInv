{
 "cells": [
  {
   "cell_type": "code",
   "execution_count": 3,
   "id": "6042933c-ebaa-4fbe-8b39-a819f3a7d48e",
   "metadata": {},
   "outputs": [],
   "source": [
    "from shutil import copyfile"
   ]
  },
  {
   "cell_type": "code",
   "execution_count": 4,
   "id": "5f2da265-b455-45c7-92c5-f28ade8671b0",
   "metadata": {},
   "outputs": [],
   "source": [
    "import os"
   ]
  },
  {
   "cell_type": "code",
   "execution_count": 5,
   "id": "92730c13-f110-4783-bccc-95223e3409bd",
   "metadata": {},
   "outputs": [],
   "source": [
    "clist = [\n",
    "\"0x1ccaa0f2a7210d76e1fdec740d5f323e2e1b1672.sol\",\n",
    "\"0x8971f9fd7196e5cee2c1032b50f656855af7dd26.sol\",\n",
    "\"0xb444208cb0516c150178fcf9a52604bc04a1acea.sol\",\n",
    "\"0x9041fe5b3fdea0f5e4afdc17e75180738d877a01.sol\",\n",
    "\"0x3833dda0aeb6947b98ce454d89366cba8cc55528.sol\",\n",
    "\"0xddd460bbd9f79847ea08681563e8a9696867210c.sol\",\n",
    "\"0x791425156956e39f2ab8ab06b79de189c18e95e5.sol\",\n",
    "\"0xfAE4Ee59CDd86e3Be9e8b90b53AA866327D7c090.sol\",\n",
    "\"0x888666CA69E0f178DED6D75b5726Cee99A87D698.sol\",\n",
    "\"0x5e6016ae7d7c49d347dcf834860b9f3ee282812b.sol\",\n",
    "\"0x28b5e12cce51f15594b0b91d5b5adaa70f684a02.sol\",\n",
    "\"0x6745fab6801e376cd24f03572b9c9b0d4edddccf.sol\",\n",
    "\"0xb53a96bcbdd9cf78dff20bab6c2be7baec8f00f8.sol\",\n",
    "\"0x4618519de4c304f3444ffa7f812dddc2971cc688.sol\",\n",
    "\"0xaa19961b6b858d9f18a115f25aa1d98abc1fdba8.sol\",\n",
    "\"0x286BDA1413a2Df81731D4930ce2F862a35A609fE.sol\",\n",
    "\"0x6704b673c70de9bf74c8fba4b4bd748f0e2190e1.sol\",\n",
    "\"0xf8b358b3397a8ea5464f8cc753645d42e14b79ea.sol\",\n",
    "\"0xb2135ab9695a7678dd590b1a996cb0f37bcb0718.sol\",\n",
    "\"0xC0Eb85285d83217CD7c891702bcbC0FC401E2D9D.sol\",\n",
    "]"
   ]
  },
  {
   "cell_type": "code",
   "execution_count": 7,
   "id": "d1bf9a46-b5d9-4ecc-9115-cea57200d897",
   "metadata": {},
   "outputs": [],
   "source": [
    "for fname in clist:\n",
    "    copyfile(\"../SolidTypes/test/top-benchset-modified/{}\".format(fname), \"./benchmarks/easy/{}\".format(fname))"
   ]
  },
  {
   "cell_type": "code",
   "execution_count": 10,
   "id": "e629b02e-6761-4cc6-bca2-d8f1a87e2ec9",
   "metadata": {},
   "outputs": [],
   "source": [
    "clist = [\n",
    "\"0x763186eb8d4856d536ed4478302971214febc6a9.sol\",\n",
    "# \"2018-13227.sol\",\n",
    "# \"2018-13228.sol\",\n",
    "# \"2018-13230.sol\",\n",
    "]"
   ]
  },
  {
   "cell_type": "code",
   "execution_count": 11,
   "id": "bd4574be-db21-4a5b-82bb-6f08dc4c39e2",
   "metadata": {},
   "outputs": [],
   "source": [
    "for fname in clist:\n",
    "    copyfile(\"../SolidTypes/test/top-benchset-modified/{}\".format(fname), \"./benchmarks/medium/{}\".format(fname))"
   ]
  },
  {
   "cell_type": "code",
   "execution_count": null,
   "id": "088640e0-4fbd-4a66-8286-6db024564fa9",
   "metadata": {},
   "outputs": [],
   "source": [
    "clist = [\n",
    "\"2018-10706.sol\",\n",
    "\"2018-11446.sol\",\n",
    "]"
   ]
  },
  {
   "cell_type": "code",
   "execution_count": null,
   "id": "2528024c-46c0-41bd-a707-4816545be0d4",
   "metadata": {},
   "outputs": [],
   "source": [
    "for fname in clist:\n",
    "    copyfile(\"../SolidTypes/test/top-benchset-modified/{}\".format(fname), \"./benchmarks/hard/{}\".format(fname))"
   ]
  }
 ],
 "metadata": {
  "kernelspec": {
   "display_name": "venti",
   "language": "python",
   "name": "venti"
  },
  "language_info": {
   "codemirror_mode": {
    "name": "ipython",
    "version": 3
   },
   "file_extension": ".py",
   "mimetype": "text/x-python",
   "name": "python",
   "nbconvert_exporter": "python",
   "pygments_lexer": "ipython3",
   "version": "3.9.5"
  }
 },
 "nbformat": 4,
 "nbformat_minor": 5
}
