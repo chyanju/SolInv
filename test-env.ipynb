{
 "cells": [
  {
   "cell_type": "code",
   "execution_count": 1,
   "id": "92a3a44d-8df4-4b8d-8a34-da53f0013a80",
   "metadata": {},
   "outputs": [],
   "source": [
    "from ray.rllib.agents import ppo"
   ]
  },
  {
   "cell_type": "code",
   "execution_count": 2,
   "id": "4d74bb2d-b4ec-465c-b513-d5da36c495eb",
   "metadata": {},
   "outputs": [
    {
     "data": {
      "text/plain": [
       "{'num_workers': 2,\n",
       " 'num_envs_per_worker': 1,\n",
       " 'create_env_on_driver': False,\n",
       " 'rollout_fragment_length': 200,\n",
       " 'batch_mode': 'truncate_episodes',\n",
       " 'gamma': 0.99,\n",
       " 'lr': 5e-05,\n",
       " 'train_batch_size': 4000,\n",
       " 'model': {'_use_default_native_models': False,\n",
       "  'fcnet_hiddens': [256, 256],\n",
       "  'fcnet_activation': 'tanh',\n",
       "  'conv_filters': None,\n",
       "  'conv_activation': 'relu',\n",
       "  'post_fcnet_hiddens': [],\n",
       "  'post_fcnet_activation': 'relu',\n",
       "  'free_log_std': False,\n",
       "  'no_final_linear': False,\n",
       "  'vf_share_layers': False,\n",
       "  'use_lstm': False,\n",
       "  'max_seq_len': 20,\n",
       "  'lstm_cell_size': 256,\n",
       "  'lstm_use_prev_action': False,\n",
       "  'lstm_use_prev_reward': False,\n",
       "  '_time_major': False,\n",
       "  'use_attention': False,\n",
       "  'attention_num_transformer_units': 1,\n",
       "  'attention_dim': 64,\n",
       "  'attention_num_heads': 1,\n",
       "  'attention_head_dim': 32,\n",
       "  'attention_memory_inference': 50,\n",
       "  'attention_memory_training': 50,\n",
       "  'attention_position_wise_mlp_dim': 32,\n",
       "  'attention_init_gru_gate_bias': 2.0,\n",
       "  'attention_use_n_prev_actions': 0,\n",
       "  'attention_use_n_prev_rewards': 0,\n",
       "  'num_framestacks': 'auto',\n",
       "  'dim': 84,\n",
       "  'grayscale': False,\n",
       "  'zero_mean': True,\n",
       "  'custom_model': None,\n",
       "  'custom_model_config': {},\n",
       "  'custom_action_dist': None,\n",
       "  'custom_preprocessor': None,\n",
       "  'lstm_use_prev_action_reward': -1,\n",
       "  'framestack': True},\n",
       " 'optimizer': {},\n",
       " 'horizon': None,\n",
       " 'soft_horizon': False,\n",
       " 'no_done_at_end': False,\n",
       " 'env': None,\n",
       " 'observation_space': None,\n",
       " 'action_space': None,\n",
       " 'env_config': {},\n",
       " 'env_task_fn': None,\n",
       " 'render_env': False,\n",
       " 'record_env': False,\n",
       " 'clip_rewards': None,\n",
       " 'normalize_actions': True,\n",
       " 'clip_actions': False,\n",
       " 'preprocessor_pref': 'deepmind',\n",
       " 'log_level': 'WARN',\n",
       " 'callbacks': ray.rllib.agents.callbacks.DefaultCallbacks,\n",
       " 'ignore_worker_failures': False,\n",
       " 'log_sys_usage': True,\n",
       " 'fake_sampler': False,\n",
       " 'framework': 'tf',\n",
       " 'eager_tracing': False,\n",
       " 'explore': True,\n",
       " 'exploration_config': {'type': 'StochasticSampling'},\n",
       " 'evaluation_interval': None,\n",
       " 'evaluation_num_episodes': 10,\n",
       " 'evaluation_parallel_to_training': False,\n",
       " 'in_evaluation': False,\n",
       " 'evaluation_config': {},\n",
       " 'evaluation_num_workers': 0,\n",
       " 'custom_eval_function': None,\n",
       " 'sample_async': False,\n",
       " 'sample_collector': ray.rllib.evaluation.collectors.simple_list_collector.SimpleListCollector,\n",
       " 'observation_filter': 'NoFilter',\n",
       " 'synchronize_filters': True,\n",
       " 'tf_session_args': {'intra_op_parallelism_threads': 2,\n",
       "  'inter_op_parallelism_threads': 2,\n",
       "  'gpu_options': {'allow_growth': True},\n",
       "  'log_device_placement': False,\n",
       "  'device_count': {'CPU': 1},\n",
       "  'allow_soft_placement': True},\n",
       " 'local_tf_session_args': {'intra_op_parallelism_threads': 8,\n",
       "  'inter_op_parallelism_threads': 8},\n",
       " 'compress_observations': False,\n",
       " 'collect_metrics_timeout': 180,\n",
       " 'metrics_smoothing_episodes': 100,\n",
       " 'remote_worker_envs': False,\n",
       " 'remote_env_batch_wait_ms': 0,\n",
       " 'min_iter_time_s': 0,\n",
       " 'timesteps_per_iteration': 0,\n",
       " 'seed': None,\n",
       " 'extra_python_environs_for_driver': {},\n",
       " 'extra_python_environs_for_worker': {},\n",
       " 'num_gpus': 0,\n",
       " '_fake_gpus': False,\n",
       " 'num_cpus_per_worker': 1,\n",
       " 'num_gpus_per_worker': 0,\n",
       " 'custom_resources_per_worker': {},\n",
       " 'num_cpus_for_driver': 1,\n",
       " 'placement_strategy': 'PACK',\n",
       " 'input': 'sampler',\n",
       " 'input_config': {},\n",
       " 'actions_in_input_normalized': False,\n",
       " 'input_evaluation': ['is', 'wis'],\n",
       " 'postprocess_inputs': False,\n",
       " 'shuffle_buffer_size': 0,\n",
       " 'output': None,\n",
       " 'output_compress_columns': ['obs', 'new_obs'],\n",
       " 'output_max_file_size': 67108864,\n",
       " 'multiagent': {'policies': {},\n",
       "  'policy_mapping_fn': None,\n",
       "  'policies_to_train': None,\n",
       "  'observation_fn': None,\n",
       "  'replay_mode': 'independent',\n",
       "  'count_steps_by': 'env_steps'},\n",
       " 'logger_config': None,\n",
       " 'simple_optimizer': -1,\n",
       " 'monitor': -1,\n",
       " 'use_critic': True,\n",
       " 'use_gae': True,\n",
       " 'lambda': 1.0,\n",
       " 'kl_coeff': 0.2,\n",
       " 'sgd_minibatch_size': 128,\n",
       " 'shuffle_sequences': True,\n",
       " 'num_sgd_iter': 30,\n",
       " 'lr_schedule': None,\n",
       " 'vf_loss_coeff': 1.0,\n",
       " 'entropy_coeff': 0.0,\n",
       " 'entropy_coeff_schedule': None,\n",
       " 'clip_param': 0.3,\n",
       " 'vf_clip_param': 10.0,\n",
       " 'grad_clip': None,\n",
       " 'kl_target': 0.01,\n",
       " 'vf_share_layers': -1}"
      ]
     },
     "execution_count": 2,
     "metadata": {},
     "output_type": "execute_result"
    }
   ],
   "source": [
    "ppo.DEFAULT_CONFIG.copy()"
   ]
  },
  {
   "cell_type": "code",
   "execution_count": 3,
   "id": "431f2621-e807-45c6-a9da-a49e6f7d7c76",
   "metadata": {},
   "outputs": [],
   "source": [
    "from solinv.environment import InvariantEnvironment\n",
    "from solinv.tyrell.interpreter import InvariantInterpreter\n",
    "from solinv.tyrell import spec as S\n",
    "from solinv.tyrell import dsl as D"
   ]
  },
  {
   "cell_type": "code",
   "execution_count": 4,
   "id": "abcd93e4-d119-447f-81e1-073856e21d84",
   "metadata": {},
   "outputs": [],
   "source": [
    "spec = S.parse_file(\"./dsls/example0.tyrell\")\n",
    "start_type = spec.get_type(\"Expr\")\n",
    "interpreter = InvariantInterpreter()"
   ]
  },
  {
   "cell_type": "code",
   "execution_count": 5,
   "id": "c7368cb3-c62c-4a83-970e-836dce0514e8",
   "metadata": {},
   "outputs": [],
   "source": [
    "config = {\n",
    "    \"spec\": spec,\n",
    "    \"start_type\": start_type,\n",
    "    \"max_step\": 10,\n",
    "    \"contract_path\": \"/Users/joseph/Desktop/UCSB/21fall/SolidTypes/test/regression/good/mint_MI.sol\",\n",
    "    \"interpreter\": interpreter\n",
    "}\n",
    "env = InvariantEnvironment(config=config)"
   ]
  },
  {
   "cell_type": "code",
   "execution_count": 6,
   "id": "33f7f8f6-54b0-4c95-802d-c179b1fd5f9f",
   "metadata": {},
   "outputs": [
    {
     "data": {
      "text/plain": [
       "[-1, -1, -1, -1, -1, -1, -1, -1, -1, -1]"
      ]
     },
     "execution_count": 6,
     "metadata": {},
     "output_type": "execute_result"
    }
   ],
   "source": [
    "env.get_curr_state()"
   ]
  },
  {
   "cell_type": "code",
   "execution_count": 14,
   "id": "638b4387-3da7-4e4e-8bd1-38ed604d61fa",
   "metadata": {},
   "outputs": [
    {
     "data": {
      "text/plain": [
       "[-1, -1, -1, -1, -1, -1, -1, -1, -1, -1]"
      ]
     },
     "execution_count": 14,
     "metadata": {},
     "output_type": "execute_result"
    }
   ],
   "source": [
    "env.reset()"
   ]
  },
  {
   "cell_type": "code",
   "execution_count": null,
   "id": "36f192ab-389c-4a17-a574-01a8108f4248",
   "metadata": {},
   "outputs": [],
   "source": []
  },
  {
   "cell_type": "code",
   "execution_count": 8,
   "id": "ccc2bd5d-c8f5-46c6-817b-fc27622955d9",
   "metadata": {},
   "outputs": [
    {
     "data": {
      "text/plain": [
       "[FunctionProduction(id=0, lhs=ValueType(Empty, properties={}), name=empty, rhs=[ValueType(Empty, properties={})]),\n",
       " FunctionProduction(id=1, lhs=ValueType(Expr, properties={}), name=enum2expr, rhs=[EnumType(EnumExpr, domain=['_totalSupply', '0', '_balances'])]),\n",
       " FunctionProduction(id=2, lhs=ValueType(Expr, properties={}), name=and, rhs=[ValueType(Expr, properties={}), ValueType(Expr, properties={})]),\n",
       " FunctionProduction(id=3, lhs=ValueType(Expr, properties={}), name=leq, rhs=[ValueType(Expr, properties={}), ValueType(Expr, properties={})]),\n",
       " FunctionProduction(id=4, lhs=ValueType(Expr, properties={}), name=add, rhs=[ValueType(Expr, properties={}), ValueType(Expr, properties={})]),\n",
       " FunctionProduction(id=5, lhs=ValueType(Expr, properties={}), name=flatten, rhs=[ValueType(Expr, properties={})]),\n",
       " FunctionProduction(id=6, lhs=ValueType(Expr, properties={}), name=sum, rhs=[ValueType(Expr, properties={})]),\n",
       " EnumProduction(id=7, lhs=EnumType(EnumExpr, domain=['_totalSupply', '0', '_balances']), choice=0),\n",
       " EnumProduction(id=8, lhs=EnumType(EnumExpr, domain=['_totalSupply', '0', '_balances']), choice=1),\n",
       " EnumProduction(id=9, lhs=EnumType(EnumExpr, domain=['_totalSupply', '0', '_balances']), choice=2)]"
      ]
     },
     "execution_count": 8,
     "metadata": {},
     "output_type": "execute_result"
    }
   ],
   "source": [
    "env.action_list"
   ]
  },
  {
   "cell_type": "code",
   "execution_count": 11,
   "id": "f36e7d10-1615-4034-af14-1e80a755eaa3",
   "metadata": {},
   "outputs": [
    {
     "data": {
      "text/plain": [
       "HoleNode<Expr>"
      ]
     },
     "execution_count": 11,
     "metadata": {},
     "output_type": "execute_result"
    }
   ],
   "source": [
    "env.curr_inv"
   ]
  },
  {
   "cell_type": "code",
   "execution_count": 15,
   "id": "c93fc490-9d8c-4099-9639-5411035c6845",
   "metadata": {},
   "outputs": [
    {
     "data": {
      "text/plain": [
       "[[2, -1, -1, -1, -1, -1, -1, -1, -1, -1], 0.0, False, {'info': 'good'}]"
      ]
     },
     "execution_count": 15,
     "metadata": {},
     "output_type": "execute_result"
    }
   ],
   "source": [
    "env.step(2)"
   ]
  },
  {
   "cell_type": "code",
   "execution_count": 16,
   "id": "0f1dab7a-f729-47e8-8d2e-97ac704f1e62",
   "metadata": {},
   "outputs": [
    {
     "data": {
      "text/plain": [
       "ApplyNode(and, [HoleNode<Expr>, HoleNode<Expr>])"
      ]
     },
     "execution_count": 16,
     "metadata": {},
     "output_type": "execute_result"
    }
   ],
   "source": [
    "env.curr_inv"
   ]
  },
  {
   "cell_type": "code",
   "execution_count": 20,
   "id": "2fd5e1f9-f90e-4b40-9bf0-ab0a970f496c",
   "metadata": {},
   "outputs": [
    {
     "name": "stdout",
     "output_type": "stream",
     "text": [
      "# [debug] check result: CompletedProcess(args=\"liquidsol-exe /Users/joseph/Desktop/UCSB/21fall/SolidTypes/test/regression/good/mint_MI.sol --task check --check-inv '_totalSupply'\", returncode=1, stdout=b'Now running on Mint\\n', stderr=b'liquidsol-exe: user error (Unexpected result from the SMT solver:\\n  Expected: success\\n  Result: (error line 91 column 246: Sort mismatch at argument #2 for function (declare-fun => (Bool Bool) Bool) supplied sort is Int )\\n)\\n')\n"
     ]
    },
    {
     "data": {
      "text/plain": [
       "[[1, 7, -1, -1, -1, -1, -1, -1, -1, -1], -1.0, True, {}]"
      ]
     },
     "execution_count": 20,
     "metadata": {},
     "output_type": "execute_result"
    }
   ],
   "source": [
    "env.step(7)"
   ]
  },
  {
   "cell_type": "code",
   "execution_count": 21,
   "id": "92be3e60-7379-4fdd-a9d7-4c1090a6c769",
   "metadata": {},
   "outputs": [
    {
     "data": {
      "text/plain": [
       "ApplyNode(enum2expr, [AtomNode(_totalSupply)])"
      ]
     },
     "execution_count": 21,
     "metadata": {},
     "output_type": "execute_result"
    }
   ],
   "source": [
    "env.curr_inv"
   ]
  },
  {
   "cell_type": "code",
   "execution_count": 4,
   "id": "5a4efde4-f197-4907-8725-09bf76ecd074",
   "metadata": {},
   "outputs": [
    {
     "data": {
      "text/plain": [
       "['__annotations__',\n",
       " '__class__',\n",
       " '__delattr__',\n",
       " '__dict__',\n",
       " '__dir__',\n",
       " '__doc__',\n",
       " '__enter__',\n",
       " '__eq__',\n",
       " '__exit__',\n",
       " '__format__',\n",
       " '__ge__',\n",
       " '__getattribute__',\n",
       " '__gt__',\n",
       " '__hash__',\n",
       " '__init__',\n",
       " '__init_subclass__',\n",
       " '__le__',\n",
       " '__lt__',\n",
       " '__module__',\n",
       " '__ne__',\n",
       " '__new__',\n",
       " '__reduce__',\n",
       " '__reduce_ex__',\n",
       " '__repr__',\n",
       " '__setattr__',\n",
       " '__sizeof__',\n",
       " '__str__',\n",
       " '__subclasshook__',\n",
       " '__weakref__',\n",
       " 'action_list',\n",
       " 'action_space',\n",
       " 'builder',\n",
       " 'close',\n",
       " 'contract_path',\n",
       " 'curr_inv',\n",
       " 'curr_seq',\n",
       " 'done',\n",
       " 'get_curr_state',\n",
       " 'info',\n",
       " 'is_done',\n",
       " 'max_step',\n",
       " 'metadata',\n",
       " 'observation_space',\n",
       " 'render',\n",
       " 'reset',\n",
       " 'reward_range',\n",
       " 'seed',\n",
       " 'spec',\n",
       " 'start_type',\n",
       " 'step',\n",
       " 'unwrapped']"
      ]
     },
     "execution_count": 4,
     "metadata": {},
     "output_type": "execute_result"
    }
   ],
   "source": [
    "dir(env)"
   ]
  },
  {
   "cell_type": "code",
   "execution_count": null,
   "id": "925f2bc2-93e3-46c2-aabe-dcb754fb826c",
   "metadata": {},
   "outputs": [],
   "source": []
  }
 ],
 "metadata": {
  "kernelspec": {
   "display_name": "venti",
   "language": "python",
   "name": "venti"
  },
  "language_info": {
   "codemirror_mode": {
    "name": "ipython",
    "version": 3
   },
   "file_extension": ".py",
   "mimetype": "text/x-python",
   "name": "python",
   "nbconvert_exporter": "python",
   "pygments_lexer": "ipython3",
   "version": "3.9.5"
  }
 },
 "nbformat": 4,
 "nbformat_minor": 5
}
