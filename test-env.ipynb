{
 "cells": [
  {
   "cell_type": "code",
   "execution_count": 1,
   "id": "2c4dc21a-6a38-4555-9d67-c7ca4a8813b5",
   "metadata": {},
   "outputs": [],
   "source": [
    "import argparse\n",
    "import numpy as np\n",
    "import os\n",
    "import random\n",
    "\n",
    "# ray related utils\n",
    "import ray\n",
    "from ray import tune\n",
    "from ray.rllib.agents import ppo, dqn\n",
    "from ray.rllib.models import ModelCatalog\n",
    "from ray.tune.logger import pretty_print\n",
    "\n",
    "# trinity related utils\n",
    "import solinv.tyrell.spec as S\n",
    "import solinv.tyrell.dsl as D\n",
    "from solinv.tyrell.interpreter import InvariantInterpreter\n",
    "from solinv.environment import InvariantEnvironment\n",
    "from solinv.model import InvariantTGN"
   ]
  },
  {
   "cell_type": "code",
   "execution_count": 2,
   "id": "bba88e70-4ede-44b3-8a1e-b92d8bb45b4e",
   "metadata": {},
   "outputs": [],
   "source": [
    "spec = S.parse_file(\"./dsls/abstract0.tyrell\")\n",
    "start_type = spec.get_type(\"Expr\")\n",
    "interpreter = InvariantInterpreter()\n",
    "env_config = {\n",
    "    \"spec\": spec,\n",
    "    \"start_type\": start_type,\n",
    "    \"max_step\": 6,\n",
    "    # version options are: 0.4.26, 0.5.17, 0.6.12\n",
    "    \"contracts\": [\n",
    "        # (\"./benchmarks/mint_MI.sol\", \"0.5.17\"),\n",
    "\n",
    "        (\"./benchmarks/easy/0x1ccaa0f2a7210d76e1fdec740d5f323e2e1b1672.sol\", \"0.4.26\"), # stovars: 9\n",
    "        (\"./benchmarks/easy/0x28b5e12cce51f15594b0b91d5b5adaa70f684a02.sol\", \"0.4.26\"), # stovars: 9\n",
    "        (\"./benchmarks/easy/0x6704b673c70de9bf74c8fba4b4bd748f0e2190e1.sol\", \"0.4.26\"), # stovars: 8\n",
    "        (\"./benchmarks/easy/0x6745fab6801e376cd24f03572b9c9b0d4edddccf.sol\", \"0.4.26\"), # stovars: 8\n",
    "        (\"./benchmarks/easy/0x8971f9fd7196e5cee2c1032b50f656855af7dd26.sol\", \"0.4.26\"), # stovars: 8\n",
    "        (\"./benchmarks/easy/0x9041fe5b3fdea0f5e4afdc17e75180738d877a01.sol\", \"0.4.26\"), # stovars: 7\n",
    "\n",
    "        # (\"./benchmarks/easy/0x5e6016ae7d7c49d347dcf834860b9f3ee282812b.sol\", \"0.4.26\"), # stovars: 21\n",
    "        # (\"./benchmarks/easy/0x286BDA1413a2Df81731D4930ce2F862a35A609fE.sol\", \"0.4.26\"), # stovars: 11\n",
    "\n",
    "        # fixme: NotImplementedError: Unsupported nodeType, got: UserDefinedTypeName.\n",
    "        # (\"./benchmarks/easy/0x888666CA69E0f178DED6D75b5726Cee99A87D698.sol\", \"0.4.26\"),\n",
    "    ],\n",
    "    \"interpreter\": interpreter\n",
    "}\n",
    "# need to construct the vocab first to provide parameters for nn\n",
    "tmp_environment = InvariantEnvironment(config=env_config)"
   ]
  },
  {
   "cell_type": "code",
   "execution_count": 5,
   "id": "9fcecc51-d8aa-49a5-9c16-6dda33e2fba9",
   "metadata": {},
   "outputs": [],
   "source": [
    "res = tmp_environment.reset()"
   ]
  },
  {
   "cell_type": "code",
   "execution_count": 6,
   "id": "5f7878d0-4cab-4bed-822b-fbf0f40c16ee",
   "metadata": {},
   "outputs": [
    {
     "data": {
      "text/plain": [
       "dict_keys(['start', 'contract', 'action_mask', 'nn_seq', 'all_actions'])"
      ]
     },
     "execution_count": 6,
     "metadata": {},
     "output_type": "execute_result"
    }
   ],
   "source": [
    "res.keys()"
   ]
  },
  {
   "cell_type": "code",
   "execution_count": 9,
   "id": "89211904-5614-40fa-95c9-5778b43867a3",
   "metadata": {},
   "outputs": [
    {
     "data": {
      "text/plain": [
       "int"
      ]
     },
     "execution_count": 9,
     "metadata": {},
     "output_type": "execute_result"
    }
   ],
   "source": [
    "type(res[\"contract\"][\"x\"][0])"
   ]
  },
  {
   "cell_type": "code",
   "execution_count": 10,
   "id": "78f38b89-24fe-46e7-b381-586d5778b655",
   "metadata": {},
   "outputs": [
    {
     "name": "stderr",
     "output_type": "stream",
     "text": [
      "2021-10-10 13:46:25,710\tINFO services.py:1263 -- View the Ray dashboard at \u001b[1m\u001b[32mhttp://127.0.0.1:8265\u001b[39m\u001b[22m\n"
     ]
    },
    {
     "data": {
      "text/plain": [
       "{'node_ip_address': '169.231.37.220',\n",
       " 'raylet_ip_address': '169.231.37.220',\n",
       " 'redis_address': '169.231.37.220:6379',\n",
       " 'object_store_address': '/tmp/ray/session_2021-10-10_13-46-21_237407_1587/sockets/plasma_store',\n",
       " 'raylet_socket_name': '/tmp/ray/session_2021-10-10_13-46-21_237407_1587/sockets/raylet',\n",
       " 'webui_url': '127.0.0.1:8265',\n",
       " 'session_dir': '/tmp/ray/session_2021-10-10_13-46-21_237407_1587',\n",
       " 'metrics_export_port': 60560,\n",
       " 'node_id': '962215ba648baa13ec6b501457daede6336ff00879f6345d9f371828'}"
      ]
     },
     "execution_count": 10,
     "metadata": {},
     "output_type": "execute_result"
    }
   ],
   "source": [
    "ray.init(local_mode=True, object_store_memory=5*(10**9))"
   ]
  },
  {
   "cell_type": "code",
   "execution_count": 11,
   "id": "3182309d-7574-4496-98bf-675a74c580dc",
   "metadata": {},
   "outputs": [
    {
     "ename": "AttributeError",
     "evalue": "module 'ray' has no attribute 'utils'",
     "output_type": "error",
     "traceback": [
      "\u001b[0;31m---------------------------------------------------------------------------\u001b[0m",
      "\u001b[0;31mAttributeError\u001b[0m                            Traceback (most recent call last)",
      "\u001b[0;32m<ipython-input-11-f8baef968d62>\u001b[0m in \u001b[0;36m<module>\u001b[0;34m\u001b[0m\n\u001b[0;32m----> 1\u001b[0;31m \u001b[0mray\u001b[0m\u001b[0;34m.\u001b[0m\u001b[0mutils\u001b[0m\u001b[0;34m.\u001b[0m\u001b[0mget_system_memory_bytes\u001b[0m\u001b[0;34m(\u001b[0m\u001b[0;34m)\u001b[0m\u001b[0;34m\u001b[0m\u001b[0;34m\u001b[0m\u001b[0m\n\u001b[0m",
      "\u001b[0;31mAttributeError\u001b[0m: module 'ray' has no attribute 'utils'"
     ]
    }
   ],
   "source": [
    "ray.utils.get_system_memory_bytes()"
   ]
  },
  {
   "cell_type": "code",
   "execution_count": null,
   "id": "7b31b142-eb02-46e2-94c5-9b8b7fdb645d",
   "metadata": {},
   "outputs": [],
   "source": []
  }
 ],
 "metadata": {
  "kernelspec": {
   "display_name": "venti",
   "language": "python",
   "name": "venti"
  },
  "language_info": {
   "codemirror_mode": {
    "name": "ipython",
    "version": 3
   },
   "file_extension": ".py",
   "mimetype": "text/x-python",
   "name": "python",
   "nbconvert_exporter": "python",
   "pygments_lexer": "ipython3",
   "version": "3.9.5"
  }
 },
 "nbformat": 4,
 "nbformat_minor": 5
}
