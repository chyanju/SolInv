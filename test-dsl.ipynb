{
 "cells": [
  {
   "cell_type": "code",
   "execution_count": 1,
   "id": "90886372-e6b3-43a3-b6a7-af3eeb423293",
   "metadata": {},
   "outputs": [
    {
     "ename": "ModuleNotFoundError",
     "evalue": "No module named 'tyrell'",
     "output_type": "error",
     "traceback": [
      "\u001b[0;31m---------------------------------------------------------------------------\u001b[0m",
      "\u001b[0;31mModuleNotFoundError\u001b[0m                       Traceback (most recent call last)",
      "\u001b[0;32m<ipython-input-1-440bf487bd33>\u001b[0m in \u001b[0;36m<module>\u001b[0;34m\u001b[0m\n\u001b[0;32m----> 1\u001b[0;31m \u001b[0;32mimport\u001b[0m \u001b[0mtyrell\u001b[0m\u001b[0;34m.\u001b[0m\u001b[0mspec\u001b[0m \u001b[0;32mas\u001b[0m \u001b[0mS\u001b[0m\u001b[0;34m\u001b[0m\u001b[0;34m\u001b[0m\u001b[0m\n\u001b[0m\u001b[1;32m      2\u001b[0m \u001b[0;32mimport\u001b[0m \u001b[0mtyrell\u001b[0m\u001b[0;34m.\u001b[0m\u001b[0mdsl\u001b[0m \u001b[0;32mas\u001b[0m \u001b[0mD\u001b[0m\u001b[0;34m\u001b[0m\u001b[0;34m\u001b[0m\u001b[0m\n\u001b[1;32m      3\u001b[0m \u001b[0;34m\u001b[0m\u001b[0m\n\u001b[1;32m      4\u001b[0m \u001b[0;32mfrom\u001b[0m \u001b[0mtyrell\u001b[0m\u001b[0;34m.\u001b[0m\u001b[0minterpreter\u001b[0m \u001b[0;32mimport\u001b[0m \u001b[0mInvariantInterpreter\u001b[0m\u001b[0;34m\u001b[0m\u001b[0;34m\u001b[0m\u001b[0m\n",
      "\u001b[0;31mModuleNotFoundError\u001b[0m: No module named 'tyrell'"
     ]
    }
   ],
   "source": [
    "import tyrell.spec as S\n",
    "import tyrell.dsl as D\n",
    "\n",
    "from tyrell.interpreter import InvariantInterpreter"
   ]
  },
  {
   "cell_type": "code",
   "execution_count": 2,
   "id": "0eeb720e-a5de-4656-a91f-dbde7b7e1887",
   "metadata": {},
   "outputs": [
    {
     "ename": "NameError",
     "evalue": "name 'S' is not defined",
     "output_type": "error",
     "traceback": [
      "\u001b[0;31m---------------------------------------------------------------------------\u001b[0m",
      "\u001b[0;31mNameError\u001b[0m                                 Traceback (most recent call last)",
      "\u001b[0;32m<ipython-input-2-15414af85868>\u001b[0m in \u001b[0;36m<module>\u001b[0;34m\u001b[0m\n\u001b[0;32m----> 1\u001b[0;31m \u001b[0mspec\u001b[0m \u001b[0;34m=\u001b[0m \u001b[0mS\u001b[0m\u001b[0;34m.\u001b[0m\u001b[0mparse_file\u001b[0m\u001b[0;34m(\u001b[0m\u001b[0;34m\"./dsls/example0.tyrell\"\u001b[0m\u001b[0;34m)\u001b[0m\u001b[0;34m\u001b[0m\u001b[0;34m\u001b[0m\u001b[0m\n\u001b[0m\u001b[1;32m      2\u001b[0m \u001b[0mbuilder\u001b[0m \u001b[0;34m=\u001b[0m \u001b[0mD\u001b[0m\u001b[0;34m.\u001b[0m\u001b[0mBuilder\u001b[0m\u001b[0;34m(\u001b[0m\u001b[0mspec\u001b[0m\u001b[0;34m)\u001b[0m\u001b[0;34m\u001b[0m\u001b[0;34m\u001b[0m\u001b[0m\n\u001b[1;32m      3\u001b[0m \u001b[0minterpreter\u001b[0m \u001b[0;34m=\u001b[0m \u001b[0mInvariantInterpreter\u001b[0m\u001b[0;34m(\u001b[0m\u001b[0;34m)\u001b[0m\u001b[0;34m\u001b[0m\u001b[0;34m\u001b[0m\u001b[0m\n",
      "\u001b[0;31mNameError\u001b[0m: name 'S' is not defined"
     ]
    }
   ],
   "source": [
    "spec = S.parse_file(\"./dsls/example0.tyrell\")\n",
    "builder = D.Builder(spec)\n",
    "interpreter = InvariantInterpreter()"
   ]
  },
  {
   "cell_type": "code",
   "execution_count": 3,
   "id": "eb26392b-2c85-4610-9575-27a159d058c8",
   "metadata": {},
   "outputs": [],
   "source": [
    "jsonexp = [\n",
    "    [\"function\", \"leq\"],\n",
    "    [\n",
    "        [\"function\", \"enum2int\"],\n",
    "        [\"enum\", \"EnumInt\", \"0\"]\n",
    "    ],\n",
    "    [\n",
    "        [\"function\", \"sum\"],\n",
    "        [\n",
    "            [\"function\", \"enum2map\"],\n",
    "            [\"enum\", \"EnumMap\", \"_balances\"]\n",
    "        ]\n",
    "    ]\n",
    "]"
   ]
  },
  {
   "cell_type": "code",
   "execution_count": 4,
   "id": "1ad2ff02-ae60-48e8-a254-ce0721b7653b",
   "metadata": {},
   "outputs": [],
   "source": [
    "invariant = builder.from_jsonexp(jsonexp)"
   ]
  },
  {
   "cell_type": "code",
   "execution_count": 5,
   "id": "fde175c2-d33a-48b0-9b76-aaba45998e53",
   "metadata": {},
   "outputs": [
    {
     "data": {
      "text/plain": [
       "'(0 <= sum(_balances))'"
      ]
     },
     "execution_count": 5,
     "metadata": {},
     "output_type": "execute_result"
    }
   ],
   "source": [
    "interpreter.eval(invariant)"
   ]
  },
  {
   "cell_type": "code",
   "execution_count": null,
   "id": "936ef47e-fd6a-42c5-a377-1113fe79de2d",
   "metadata": {},
   "outputs": [],
   "source": []
  },
  {
   "cell_type": "code",
   "execution_count": 14,
   "id": "ecf2b805-9f87-44ac-b94c-1c3bbebe3547",
   "metadata": {},
   "outputs": [],
   "source": [
    "from tyrell.dsl import HoleNode\n",
    "from tyrell.dsl.utils import derive_dfs, get_hole_dfs"
   ]
  },
  {
   "cell_type": "code",
   "execution_count": 21,
   "id": "68066dd0-7a88-4a29-bc60-a2f82a013597",
   "metadata": {},
   "outputs": [
    {
     "data": {
      "text/plain": [
       "'Hole<Bool>'"
      ]
     },
     "execution_count": 21,
     "metadata": {},
     "output_type": "execute_result"
    }
   ],
   "source": [
    "t0 = spec.get_type(\"Bool\")\n",
    "s0 = HoleNode(type=t0)\n",
    "p0 = spec.get_function_production(\"leq\")\n",
    "# _t0 = get_hole_dfs(s0)._type\n",
    "str(s0)"
   ]
  },
  {
   "cell_type": "code",
   "execution_count": 22,
   "id": "cce10f7c-98ba-430f-ad63-67a579d5d281",
   "metadata": {},
   "outputs": [
    {
     "data": {
      "text/plain": [
       "'leq(Hole<Int>, Hole<Int>)'"
      ]
     },
     "execution_count": 22,
     "metadata": {},
     "output_type": "execute_result"
    }
   ],
   "source": [
    "dd, s1 = derive_dfs(builder, s0, p0)\n",
    "str(s1)"
   ]
  },
  {
   "cell_type": "code",
   "execution_count": null,
   "id": "66b93f3a-7446-4409-b1a8-fb85cd084d86",
   "metadata": {},
   "outputs": [],
   "source": []
  },
  {
   "cell_type": "code",
   "execution_count": 24,
   "id": "fd091f75-5e31-4086-939d-80b9f5c226a6",
   "metadata": {},
   "outputs": [
    {
     "data": {
      "text/plain": [
       "[FunctionProduction(id=0, lhs=ValueType(Empty, properties={}), name=empty, rhs=[ValueType(Empty, properties={})]),\n",
       " FunctionProduction(id=1, lhs=ValueType(Int, properties={}), name=enum2int, rhs=[EnumType(EnumInt, domain=['_totalSupply', '0'])]),\n",
       " FunctionProduction(id=2, lhs=ValueType(Map, properties={}), name=enum2map, rhs=[EnumType(EnumMap, domain=['_balances'])]),\n",
       " FunctionProduction(id=3, lhs=ValueType(Bool, properties={}), name=and, rhs=[ValueType(Bool, properties={}), ValueType(Bool, properties={})]),\n",
       " FunctionProduction(id=4, lhs=ValueType(Bool, properties={}), name=leq, rhs=[ValueType(Int, properties={}), ValueType(Int, properties={})]),\n",
       " FunctionProduction(id=5, lhs=ValueType(Int, properties={}), name=add, rhs=[ValueType(Int, properties={}), ValueType(Int, properties={})]),\n",
       " FunctionProduction(id=6, lhs=ValueType(Map, properties={}), name=flatten, rhs=[ValueType(MapMap, properties={})]),\n",
       " FunctionProduction(id=7, lhs=ValueType(Int, properties={}), name=sum, rhs=[ValueType(Map, properties={})]),\n",
       " EnumProduction(id=8, lhs=EnumType(EnumInt, domain=['_totalSupply', '0']), choice=0),\n",
       " EnumProduction(id=9, lhs=EnumType(EnumInt, domain=['_totalSupply', '0']), choice=1),\n",
       " EnumProduction(id=10, lhs=EnumType(EnumMap, domain=['_balances']), choice=0)]"
      ]
     },
     "execution_count": 24,
     "metadata": {},
     "output_type": "execute_result"
    }
   ],
   "source": [
    "list(spec.productions())"
   ]
  },
  {
   "cell_type": "code",
   "execution_count": null,
   "id": "8887ee14-0568-40c4-8ca8-015049dae63d",
   "metadata": {},
   "outputs": [],
   "source": []
  }
 ],
 "metadata": {
  "kernelspec": {
   "display_name": "venti",
   "language": "python",
   "name": "venti"
  },
  "language_info": {
   "codemirror_mode": {
    "name": "ipython",
    "version": 3
   },
   "file_extension": ".py",
   "mimetype": "text/x-python",
   "name": "python",
   "nbconvert_exporter": "python",
   "pygments_lexer": "ipython3",
   "version": "3.9.5"
  }
 },
 "nbformat": 4,
 "nbformat_minor": 5
}
