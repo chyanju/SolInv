{
 "cells": [
  {
   "cell_type": "code",
   "execution_count": 4,
   "id": "ba85c084-363c-49a0-8f48-8084cd4be164",
   "metadata": {},
   "outputs": [],
   "source": [
    "import torch\n",
    "import numpy as np"
   ]
  },
  {
   "cell_type": "code",
   "execution_count": null,
   "id": "a5d2f482-4ff8-41d2-a277-c7a4635de41c",
   "metadata": {},
   "outputs": [],
   "source": []
  },
  {
   "cell_type": "code",
   "execution_count": 21,
   "id": "59344f80-456e-4db6-b126-915de1105abb",
   "metadata": {},
   "outputs": [],
   "source": [
    "tmp_actions = torch.rand(5,4,3)\n",
    "tmp_inv = torch.rand(5,3,1)"
   ]
  },
  {
   "cell_type": "code",
   "execution_count": 22,
   "id": "81100128-ac21-4c4e-9d5e-9deae8310c54",
   "metadata": {},
   "outputs": [
    {
     "data": {
      "text/plain": [
       "torch.Size([5, 4, 1])"
      ]
     },
     "execution_count": 22,
     "metadata": {},
     "output_type": "execute_result"
    }
   ],
   "source": [
    "out = torch.matmul(tmp_actions, tmp_inv)\n",
    "out.shape"
   ]
  },
  {
   "cell_type": "code",
   "execution_count": null,
   "id": "3e1943f1-afc7-48c7-b3c9-95974ea8dfe7",
   "metadata": {},
   "outputs": [],
   "source": []
  },
  {
   "cell_type": "code",
   "execution_count": 5,
   "id": "df753747-94c2-433d-b134-5855444c3f8d",
   "metadata": {},
   "outputs": [],
   "source": [
    "tmp = torch.rand(5,4)"
   ]
  },
  {
   "cell_type": "code",
   "execution_count": 8,
   "id": "da6f2f3d-f48b-400f-8041-f5c30a5f49c7",
   "metadata": {},
   "outputs": [
    {
     "data": {
      "text/plain": [
       "tensor([[0.1695, 0.9479, 0.2903, 0.2508],\n",
       "        [0.8729, 0.6058, 0.7336, 0.8563],\n",
       "        [0.0457, 0.5836, 0.6030, 0.1667],\n",
       "        [0.3851, 0.7661, 0.9269, 0.9407],\n",
       "        [0.5851, 0.1644, 0.3070, 0.4075],\n",
       "        [0.1695, 0.9479, 0.2903, 0.2508],\n",
       "        [0.8729, 0.6058, 0.7336, 0.8563],\n",
       "        [0.0457, 0.5836, 0.6030, 0.1667],\n",
       "        [0.3851, 0.7661, 0.9269, 0.9407],\n",
       "        [0.5851, 0.1644, 0.3070, 0.4075]])"
      ]
     },
     "execution_count": 8,
     "metadata": {},
     "output_type": "execute_result"
    }
   ],
   "source": [
    "torch.cat([tmp, tmp], dim=0)"
   ]
  },
  {
   "cell_type": "code",
   "execution_count": null,
   "id": "63514fb5-a837-4df6-addd-206f3edbed8b",
   "metadata": {},
   "outputs": [],
   "source": []
  },
  {
   "cell_type": "code",
   "execution_count": 7,
   "id": "0b3a605d-40ef-4193-8071-636612958e74",
   "metadata": {},
   "outputs": [
    {
     "data": {
      "text/plain": [
       "tensor([[0.1695, 0.9479, 0.2903, 0.2508]])"
      ]
     },
     "execution_count": 7,
     "metadata": {},
     "output_type": "execute_result"
    }
   ],
   "source": [
    "tmp[0:0+1,:]"
   ]
  },
  {
   "cell_type": "code",
   "execution_count": 3,
   "id": "1df3ef0f-aacb-4732-ad52-46865110ab2e",
   "metadata": {},
   "outputs": [
    {
     "data": {
      "text/plain": [
       "array([[0.64801466, 0.4984494 , 0.76076186, 0.19821471],\n",
       "       [0.8465361 , 0.7396556 , 0.4589194 , 0.5045494 ],\n",
       "       [0.16229212, 0.43178177, 0.8064408 , 0.6909523 ],\n",
       "       [0.94091606, 0.45656615, 0.5283224 , 0.9391731 ],\n",
       "       [0.02857065, 0.62020016, 0.14466685, 0.77957183]], dtype=float32)"
      ]
     },
     "execution_count": 3,
     "metadata": {},
     "output_type": "execute_result"
    }
   ],
   "source": [
    "torch.rand(5,4).numpy()"
   ]
  },
  {
   "cell_type": "code",
   "execution_count": 12,
   "id": "240a452f-f96c-4ce3-842a-053e4863a52e",
   "metadata": {},
   "outputs": [
    {
     "data": {
      "text/plain": [
       "tensor([[0.5005],\n",
       "        [0.5142]])"
      ]
     },
     "execution_count": 12,
     "metadata": {},
     "output_type": "execute_result"
    }
   ],
   "source": [
    "torch.rand(2,).unsqueeze(dim=1)"
   ]
  },
  {
   "cell_type": "code",
   "execution_count": 18,
   "id": "f9aa3b77-c0a5-4180-9e6e-7059ccae8100",
   "metadata": {},
   "outputs": [
    {
     "data": {
      "text/plain": [
       "tensor([[0.0487, 0.6535],\n",
       "        [0.2671, 0.7648]])"
      ]
     },
     "execution_count": 18,
     "metadata": {},
     "output_type": "execute_result"
    }
   ],
   "source": [
    "torch.rand(5,4)[0:2, 0:2]"
   ]
  },
  {
   "cell_type": "code",
   "execution_count": 24,
   "id": "e73ceab6-d72f-48dd-8c1f-a3225c23eaa8",
   "metadata": {},
   "outputs": [
    {
     "data": {
      "text/plain": [
       "dtype('int64')"
      ]
     },
     "execution_count": 24,
     "metadata": {},
     "output_type": "execute_result"
    }
   ],
   "source": [
    "torch.randint(low=0, high=9, size=(5,4)).numpy().dtype"
   ]
  },
  {
   "cell_type": "code",
   "execution_count": 25,
   "id": "47b8d43d-23d5-4901-8095-76f6b423c63b",
   "metadata": {},
   "outputs": [
    {
     "data": {
      "text/plain": [
       "tensor([8, 7, 5, 6, 2, 8, 2, 6, 8])"
      ]
     },
     "execution_count": 25,
     "metadata": {},
     "output_type": "execute_result"
    }
   ],
   "source": [
    "torch.randint(low=0, high=9, size=(9,))"
   ]
  },
  {
   "cell_type": "code",
   "execution_count": 32,
   "id": "7cf85279-3721-4f91-b644-5e8d391d4b39",
   "metadata": {},
   "outputs": [
    {
     "data": {
      "text/plain": [
       "tensor([[7, 4, 5, 7, 5, 7, 0, 7, 5],\n",
       "        [0, 0, 3, 5, 7, 7, 3, 8, 6]])"
      ]
     },
     "execution_count": 32,
     "metadata": {},
     "output_type": "execute_result"
    }
   ],
   "source": [
    "torch.cat([\n",
    "    torch.randint(low=0, high=9, size=(9,)).unsqueeze(0),\n",
    "    torch.randint(low=0, high=9, size=(9,)).unsqueeze(0)\n",
    "], dim=0)"
   ]
  },
  {
   "cell_type": "code",
   "execution_count": 31,
   "id": "abec3334-549f-4dc2-9e99-dd43bc14cccb",
   "metadata": {},
   "outputs": [
    {
     "data": {
      "text/plain": [
       "tensor([[6, 6, 4, 2, 6, 8, 5, 4, 4]])"
      ]
     },
     "execution_count": 31,
     "metadata": {},
     "output_type": "execute_result"
    }
   ],
   "source": [
    "torch.randint(low=0, high=9, size=(9,)).unsqueeze(0)"
   ]
  },
  {
   "cell_type": "code",
   "execution_count": null,
   "id": "4567ac5a-adf9-438a-95f4-093868f968a0",
   "metadata": {},
   "outputs": [],
   "source": []
  },
  {
   "cell_type": "code",
   "execution_count": 1,
   "id": "80ef7531-32b8-458a-b711-46654f179c9d",
   "metadata": {},
   "outputs": [],
   "source": [
    "import torch"
   ]
  },
  {
   "cell_type": "code",
   "execution_count": 3,
   "id": "f3593536-2606-4e55-9c45-929a0a2e5f49",
   "metadata": {},
   "outputs": [
    {
     "ename": "AttributeError",
     "evalue": "'builtin_function_or_method' object has no attribute '__file__'",
     "output_type": "error",
     "traceback": [
      "\u001b[0;31m---------------------------------------------------------------------------\u001b[0m",
      "\u001b[0;31mAttributeError\u001b[0m                            Traceback (most recent call last)",
      "\u001b[0;32m<ipython-input-3-90ee1f0aca15>\u001b[0m in \u001b[0;36m<module>\u001b[0;34m\u001b[0m\n\u001b[0;32m----> 1\u001b[0;31m \u001b[0mtorch\u001b[0m\u001b[0;34m.\u001b[0m\u001b[0membedding\u001b[0m\u001b[0;34m.\u001b[0m\u001b[0m__file__\u001b[0m\u001b[0;34m\u001b[0m\u001b[0;34m\u001b[0m\u001b[0m\n\u001b[0m",
      "\u001b[0;31mAttributeError\u001b[0m: 'builtin_function_or_method' object has no attribute '__file__'"
     ]
    }
   ],
   "source": [
    "torch.embedding.__file__"
   ]
  },
  {
   "cell_type": "code",
   "execution_count": null,
   "id": "3eb7dd87-dccf-4d7b-a876-1b68af0273f5",
   "metadata": {},
   "outputs": [],
   "source": []
  }
 ],
 "metadata": {
  "kernelspec": {
   "display_name": "venti",
   "language": "python",
   "name": "venti"
  },
  "language_info": {
   "codemirror_mode": {
    "name": "ipython",
    "version": 3
   },
   "file_extension": ".py",
   "mimetype": "text/x-python",
   "name": "python",
   "nbconvert_exporter": "python",
   "pygments_lexer": "ipython3",
   "version": "3.9.5"
  }
 },
 "nbformat": 4,
 "nbformat_minor": 5
}
