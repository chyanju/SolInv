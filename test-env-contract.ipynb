{
 "cells": [
  {
   "cell_type": "code",
   "execution_count": 1,
   "id": "431f2621-e807-45c6-a9da-a49e6f7d7c76",
   "metadata": {},
   "outputs": [],
   "source": [
    "from solinv.environment import InvariantEnvironment\n",
    "from solinv.tyrell.interpreter import InvariantInterpreter\n",
    "from solinv.tyrell import spec as S\n",
    "from solinv.tyrell import dsl as D\n",
    "\n",
    "from solinv.tyrell.dsl.utils import derive_dfs, get_hole_dfs"
   ]
  },
  {
   "cell_type": "code",
   "execution_count": 2,
   "id": "abcd93e4-d119-447f-81e1-073856e21d84",
   "metadata": {},
   "outputs": [],
   "source": [
    "spec = S.parse_file(\"./dsls/abstract0.tyrell\")\n",
    "start_type = spec.get_type(\"Expr\")\n",
    "builder = D.Builder( spec )\n",
    "interpreter = InvariantInterpreter()"
   ]
  },
  {
   "cell_type": "code",
   "execution_count": 3,
   "id": "c7368cb3-c62c-4a83-970e-836dce0514e8",
   "metadata": {},
   "outputs": [],
   "source": [
    "config = {\n",
    "    \"spec\": spec,\n",
    "    \"start_type\": start_type,\n",
    "    \"max_step\": 10,\n",
    "    \"contract_path\": \"../SolidTypes/test/regression/good/mint_MI.sol\",\n",
    "    \"max_contract_length\": 2500,\n",
    "    \"token_list_path\": \"./token_list0.pkl\",\n",
    "    \"solc_version\": \"0.5.17\",\n",
    "    \"interpreter\": interpreter\n",
    "}\n",
    "env = InvariantEnvironment(config=config)"
   ]
  },
  {
   "cell_type": "code",
   "execution_count": 5,
   "id": "62fb89a7-26df-41ee-b3a5-771a2cf2e8cf",
   "metadata": {},
   "outputs": [
    {
     "data": {
      "text/plain": [
       "'enum2expr(<VAR2>)'"
      ]
     },
     "execution_count": 5,
     "metadata": {},
     "output_type": "execute_result"
    }
   ],
   "source": [
    "env.spinv_to_stoinv(\"enum2expr(<VAR2>)\")"
   ]
  },
  {
   "cell_type": "code",
   "execution_count": 4,
   "id": "773a6e68-162d-4a96-8b88-85100c1d0159",
   "metadata": {},
   "outputs": [
    {
     "data": {
      "text/plain": [
       "['_balances', '_totalSupply']"
      ]
     },
     "execution_count": 4,
     "metadata": {},
     "output_type": "execute_result"
    }
   ],
   "source": [
    "env.stovar_list"
   ]
  },
  {
   "cell_type": "code",
   "execution_count": 5,
   "id": "f381e609-463d-46c2-8a0d-9fe0c7de548e",
   "metadata": {},
   "outputs": [
    {
     "data": {
      "text/plain": [
       "{'<VAR0>': EnumProduction(id=7, lhs=EnumType(EnumExpr, domain=['<VAR0>', '<VAR1>', '<VAR2>', '0']), choice=0),\n",
       " '<VAR1>': EnumProduction(id=8, lhs=EnumType(EnumExpr, domain=['<VAR0>', '<VAR1>', '<VAR2>', '0']), choice=1)}"
      ]
     },
     "execution_count": 5,
     "metadata": {},
     "output_type": "execute_result"
    }
   ],
   "source": [
    "env.spvar_to_prod"
   ]
  },
  {
   "cell_type": "code",
   "execution_count": 6,
   "id": "1a329593-579c-4ccd-b961-d8d9a2f868a2",
   "metadata": {},
   "outputs": [
    {
     "data": {
      "text/plain": [
       "{'_balances': '<VAR0>', '_totalSupply': '<VAR1>'}"
      ]
     },
     "execution_count": 6,
     "metadata": {},
     "output_type": "execute_result"
    }
   ],
   "source": [
    "env.stovar_to_spvar"
   ]
  },
  {
   "cell_type": "code",
   "execution_count": 7,
   "id": "9a6dc523-d580-4bfa-9d21-7d030cca27bd",
   "metadata": {},
   "outputs": [
    {
     "data": {
      "text/plain": [
       "2500"
      ]
     },
     "execution_count": 7,
     "metadata": {},
     "output_type": "execute_result"
    }
   ],
   "source": [
    "len(env.contract_tokens)"
   ]
  },
  {
   "cell_type": "code",
   "execution_count": 8,
   "id": "6de1a4db-bff8-461b-b1c9-f8cb7fa82401",
   "metadata": {},
   "outputs": [
    {
     "data": {
      "text/plain": [
       "'[3, 119, 7, 2, 8, 120, 7, 3, 2, 7, 5, 2, 8, 6, 8, 4, 8, 23, 7, 2, 8, 22, 7, 121, 8, 79, 7, 5, 3, 104, 7, 5, 6, 8, 105, 7, 5, 6, 8, 106, 7, 110, 8, 68, 7, 26, 8, 107, 7, 37, 8, 23, 7, 2, 8, 108, 7, 5, 2, 8, 6, 8, 29, 7, 2, 8, 22, 7, 109, 8, 79, 7, 5, 3, 50, 7, 20, 8, 23, 7, 2, 8, 29, 7, 16, 8, 22, 7, 51, 8, 41, 7, 2, 8, 21, 7, 2, 8, 52, 7, 37, 8, 53, 7, 55, 8, 27, 7, 3, 24, 7, 164, 8, 25, 7, 165, 8, 4, 8, 46, 7, 3, 23, 7, 2, 8, 155, 7, 3, 23, 7, 2, 8, 29, 7, 30, 8, 22, 7, 48, 8, 21, 7, 2, 8, 27, 7, 3, 24, 7, 31, 8, 25, 7, 30, 8, 4, 8, 4, 8, 22, 7, 156, 8, 21, 7, 2, 8, 27, 7, 3, 24, 7, 164, 8, 25, 7, 165, 8, 4, 8, 157, 7, 3, 23, 7, 2, 8, 29, 7, 30, 8, 22, 7, 48, 8, 21, 7, 2, 8, 27, 7, 3, 24, 7, 31, 8, 25, 7, 30, 8, 4, 8, 4, 8, 4, 8, 38, 7, 26, 8, 44, 7, 47, 8, 4, 8, 3, 50, 7, 20, 8, 23, 7, 2, 8, 29, 7, 17, 8, 22, 7, 51, 8, 41, 7, 2, 8, 21, 7, 2, 8, 52, 7, 37, 8, 53, 7, 55, 8, 27, 7, 3, 24, 7, 31, 8, 25, 7, 30, 8, 4, 8, 46, 7, 3, 23, 7, 2, 8, 29, 7, 30, 8, 22, 7, 48, 8, 21, 7, 2, 8, 27, 7, 3, 24, 7, 31, 8, 25, 7, 30, 8, 4, 8, 4, 8, 38, 7, 26, 8, 44, 7, 47, 8, 4, 8, 3, 82, 7, 3, 23, 7, 2, 8, 22, 7, 78, 8, 21, 7, 2, 8, 77, 7, 5, 3, 43, 7, 3, 28, 7, 26, 8, 70, 7, 5, 3, 28, 7, 26, 8, 63, 7, 3, 24, 7, 31, 8, 25, 7, 30, 8, 4, 8, 23, 7, 2, 8, 32, 7, 20, 8, 33, 7, 20, 8, 34, 7, 20, 8, 35, 7, 20, 8, 64, 7, 3, 28, 7, 26, 8, 23, 7, 2, 8, 29, 7, 147, 8, 22, 7, 39, 8, 40, 7, 5, 6, 8, 36, 7, 2, 8, 21, 7, 2, 8, 27, 7, 3, 24, 7, 31, 8, 25, 7, 30, 8, 4, 8, 4, 8, 22, 7, 65, 8, 54, 7, 2, 8, 66, 7, 3, 28, 7, 26, 8, 57, 7, 2, 8, 23, 7, 2, 8, 32, 7, 20, 8, 33, 7, 20, 8, 34, 7, 37, 8, 42, 7, 61, 8, 35, 7, 20, 8, 22, 7, 58, 8, 21, 7, 2, 8, 59, 7, 26, 8, 27, 7, 3, 24, 7, 102, 8, 25, 7, 103, 8, 4, 8, 38, 7, 2, 8, 4, 8, 21, 7, 2, 8, 27, 7, 3, 24, 7, 56, 8, 25, 7, 49, 8, 4, 8, 4, 8, 6, 8, 43, 7, 3, 28, 7, 5, 3, 24, 7, 56, 8, 25, 7, 49, 8, 4, 8, 6, 8, 23, 7, 2, 8, 29, 7, 139, 8, 22, 7, 39, 8, 40, 7, 5, 2, 8, 2, 8, 6, 8, 36, 7, 2, 8, 21, 7, 2, 8, 27, 7, 3, 24, 7, 140, 8, 25, 7, 91, 8, 4, 8, 4, 8, 23, 7, 2, 8, 32, 7, 20, 8, 33, 7, 20, 8, 34, 7, 20, 8, 42, 7, 74, 8, 35, 7, 20, 8, 71, 7, 5, 6, 8, 22, 7, 72, 8, 21, 7, 2, 8, 27, 7, 3, 24, 7, 89, 8, 25, 7, 90, 8, 4, 8, 4, 8, 23, 7, 2, 8, 22, 7, 69, 8, 21, 7, 2, 8, 4, 8, 3, 43, 7, 3, 28, 7, 26, 8, 70, 7, 5, 3, 28, 7, 26, 8, 63, 7, 3, 24, 7, 31, 8, 25, 7, 30, 8, 4, 8, 23, 7, 2, 8, 32, 7, 20, 8, 33, 7, 20, 8, 34, 7, 20, 8, 35, 7, 20, 8, 64, 7, 3, 28, 7, 26, 8, 63, 7, 3, 24, 7, 31, 8, 25, 7, 30, 8, 4, 8, 23, 7, 2, 8, 32, 7, 20, 8, 33, 7, 20, 8, 34, 7, 20, 8, 35, 7, 20, 8, 64, 7, 3, 28, 7, 26, 8, 23, 7, 2, 8, 29, 7, 17, 8, 22, 7, 39, 8, 40, 7, 5, 6, 8, 36, 7, 2, 8, 21, 7, 2, 8, 27, 7, 3, 24, 7, 31, 8, 25, 7, 30, 8, 4, 8, 4, 8, 22, 7, 65, 8, 54, 7, 136, 8, 66, 7, 3, 28, 7, 26, 8, 23, 7, 2, 8, 29, 7, 38, 8, 22, 7, 39, 8, 40, 7, 5, 6, 8, 36, 7, 2, 8, 21, 7, 2, 8, 27, 7, 3, 24, 7, 31, 8, 25, 7, 30, 8, 4, 8, 4, 8, 21, 7, 2, 8, 27, 7, 3, 24, 7, 31, 8, 25, 7, 30, 8, 4, 8, 4, 8, 22, 7, 65, 8, 54, 7, 148, 8, 66, 7, 3, 28, 7, 26, 8, 23, 7, 2, 8, 29, 7, 17, 8, 22, 7, 39, 8, 40, 7, 5, 6, 8, 36, 7, 2, 8, 21, 7, 2, 8, 27, 7, 3, 24, 7, 31, 8, 25, 7, 30, 8, 4, 8, 4, 8, 21, 7, 2, 8, 27, 7, 3, 24, 7, 56, 8, 25, 7, 49, 8, 4, 8, 4, 8, 6, 8, 43, 7, 3, 28, 7, 5, 3, 24, 7, 56, 8, 25, 7, 49, 8, 4, 8, 6, 8, 23, 7, 2, 8, 29, 7, 139, 8, 22, 7, 39, 8, 40, 7, 5, 2, 8, 2, 8, 6, 8, 36, 7, 2, 8, 21, 7, 2, 8, 27, 7, 3, 24, 7, 140, 8, 25, 7, 91, 8, 4, 8, 4, 8, 23, 7, 2, 8, 32, 7, 20, 8, 33, 7, 20, 8, 34, 7, 20, 8, 42, 7, 74, 8, 35, 7, 20, 8, 71, 7, 5, 6, 8, 22, 7, 72, 8, 21, 7, 2, 8, 27, 7, 3, 24, 7, 89, 8, 25, 7, 90, 8, 4, 8, 4, 8, 23, 7, 2, 8, 22, 7, 69, 8, 21, 7, 2, 8, 4, 8, 3, 43, 7, 3, 28, 7, 26, 8, 23, 7, 2, 8, 32, 7, 20, 8, 33, 7, 20, 8, 34, 7, 20, 8, 35, 7, 20, 8, 111, 7, 3, 28, 7, 26, 8, 23, 7, 2, 8, 29, 7, 17, 8, 22, 7, 39, 8, 40, 7, 5, 6, 8, 36, 7, 2, 8, 21, 7, 2, 8, 27, 7, 3, 24, 7, 31, 8, 25, 7, 30, 8, 4, 8, 4, 8, 22, 7, 112, 8, 54, 7, 124, 8, 113, 7, 3, 28, 7, 26, 8, 63, 7, 3, 24, 7, 31, 8, 25, 7, 30, 8, 4, 8, 23, 7, 2, 8, 32, 7, 20, 8, 33, 7, 20, 8, 34, 7, 20, 8, 35, 7, 20, 8, 64, 7, 3, 28, 7, 26, 8, 23, 7, 2, 8, 29, 7, 17, 8, 22, 7, 39, 8, 40, 7, 5, 6, 8, 36, 7, 2, 8, 21, 7, 2, 8, 27, 7, 3, 24, 7, 31, 8, 25, 7, 30, 8, 4, 8, 4, 8, 22, 7, 65, 8, 54, 7, 136, 8, 66, 7, 3, 28, 7, 26, 8, 23, 7, 2, 8, 29, 7, 38, 8, 22, 7, 39, 8, 40, 7, 5, 6, 8, 36, 7, 2, 8, 21, 7, 2, 8, 27, 7, 3, 24, 7, 31, 8, 25, 7, 30, 8, 4, 8, 4, 8, 21, 7, 2, 8, 27, 7, 3, 24, 7, 31, 8, 25, 7, 30, 8, 4, 8, 4, 8, 21, 7, 2, 8, 27, 7, 3, 24, 7, 31, 8, 25, 7, 30, 8, 4, 8, 4, 8, 23, 7, 2, 8, 22, 7, 69, 8, 21, 7, 2, 8, 4, 8, 3, 43, 7, 3, 28, 7, 26, 8, 23, 7, 2, 8, 32, 7, 20, 8, 33, 7, 20, 8, 34, 7, 20, 8, 35, 7, 20, 8, 111, 7, 3, 28, 7, 26, 8, 92, 7, 3, 28, 7, 26, 8, 23, 7, 2, 8, 29, 7, 16, 8, 22, 7, 39, 8, 40, 7, 5, 6, 8, 36, 7, 2, 8, 21, 7, 2, 8, 27, 7, 3, 24, 7, 164, 8, 25, 7, 165, 8, 4, 8, 4, 8, 23, 7, 2, 8, 93, 7, 3, 28, 7, 26, 8, 23, 7, 2, 8, 29, 7, 147, 8, 22, 7, 39, 8, 40, 7, 5, 6, 8, 36, 7, 2, 8, 21, 7, 2, 8, 27, 7, 3, 24, 7, 31, 8, 25, 7, 30, 8, 4, 8, 4, 8, 32, 7, 20, 8, 33, 7, 37, 8, 34, 7, 20, 8, 35, 7, 37, 8, 22, 7, 94, 8, 21, 7, 2, 8, 27, 7, 3, 24, 7, 31, 8, 25, 7, 30, 8, 4, 8, 4, 8, 22, 7, 112, 8, 54, 7, 124, 8, 113, 7, 3, 28, 7, 26, 8, 63, 7, 3, 24, 7, 31, 8, 25, 7, 30, 8, 4, 8, 23, 7, 2, 8, 32, 7, 20, 8, 33, 7, 20, 8, 34, 7, 20, 8, 35, 7, 20, 8, 64, 7, 3, 28, 7, 26, 8, 92, 7, 3, 28, 7, 26, 8, 23, 7, 2, 8, 29, 7, 16, 8, 22, 7, 39, 8, 40, 7, 5, 6, 8, 36, 7, 2, 8, 21, 7, 2, 8, 27, 7, 3, 24, 7, 164, 8, 25, 7, 165, 8, 4, 8, 4, 8, 23, 7, 2, 8, 93, 7, 3, 28, 7, 26, 8, 23, 7, 2, 8, 29, 7, 147, 8, 22, 7, 39, 8, 40, 7, 5, 6, 8, 36, 7, 2, 8, 21, 7, 2, 8, 27, 7, 3, 24, 7, 31, 8, 25, 7, 30, 8, 4, 8, 4, 8, 32, 7, 20, 8, 33, 7, 37, 8, 34, 7, 20, 8, 35, 7, 20, 8, 22, 7, 94, 8, 21, 7, 2, 8, 27, 7, 3, 24, 7, 31, 8, 25, 7, 30, 8, 4, 8, 4, 8, 22, 7, 65, 8, 54, 7, 136, 8, 66, 7, 3, 28, 7, 26, 8, 23, 7, 2, 8, 29, 7, 38, 8, 22, 7, 39, 8, 40, 7, 5, 6, 8, 36, 7, 2, 8, 21, 7, 2, 8, 27, 7, 3, 24, 7, 31, 8, 25, 7, 30, 8, 4, 8, 4, 8, 21, 7, 2, 8, 27, 7, 3, 24, 7, 31, 8, 25, 7, 30, 8, 4, 8, 4, 8, 21, 7, 2, 8, 27, 7, 3, 24, 7, 31, 8, 25, 7, 30, 8, 4, 8, 4, 8, 23, 7, 2, 8, 22, 7, 69, 8, 21, 7, 2, 8, 4, 8, 6, 8, 4, 8, 68, 7, 26, 8, 23, 7, 2, 8, 84, 7, 37, 8, 42, 7, 129, 8, 85, 7, 5, 6, 8, 29, 7, 2, 8, 22, 7, 86, 8, 45, 7, 3, 23, 7, 2, 8, 22, 7, 60, 8, 45, 7, 5, 3, 50, 7, 20, 8, 23, 7, 2, 8, 29, 7, 147, 8, 22, 7, 51, 8, 41, 7, 2, 8, 21, 7, 2, 8, 52, 7, 20, 8, 53, 7, 55, 8, 27, 7, 3, 24, 7, 31, 8, 25, 7, 30, 8, 4, 8, 46, 7, 3, 23, 7, 2, 8, 29, 7, 30, 8, 22, 7, 48, 8, 21, 7, 2, 8, 27, 7, 3, 24, 7, 31, 8, 25, 7, 30, 8, 4, 8, 4, 8, 38, 7, 26, 8, 44, 7, 47, 8, 4, 8, 3, 50, 7, 20, 8, 23, 7, 2, 8, 29, 7, 38, 8, 22, 7, 51, 8, 41, 7, 2, 8, 21, 7, 2, 8, 52, 7, 20, 8, 53, 7, 55, 8, 27, 7, 3, 24, 7, 31, 8, 25, 7, 30, 8, 4, 8, 46, 7, 3, 23, 7, 2, 8, 29, 7, 30, 8, 22, 7, 48, 8, 21, 7, 2, 8, 27, 7, 3, 24, 7, 31, 8, 25, 7, 30, 8, 4, 8, 4, 8, 38, 7, 26, 8, 44, 7, 47, 8, 4, 8, 6, 8, 21, 7, 2, 8, 4, 8, 87, 7, 3, 23, 7, 2, 8, 22, 7, 60, 8, 45, 7, 5, 6, 8, 21, 7, 2, 8, 4, 8, 41, 7, 2, 8, 21, 7, 2, 8, 81, 7, 83, 8, 118, 7, 26, 8, 44, 7, 88, 8, 4, 8, 6, 8, 41, 7, 2, 8, 21, 7, 2, 8, 4, 8, 6, 8, 21, 7, 2, 8, 4, 0, 0, 0, 0, 0, 0, 0, 0, 0, 0, 0, 0, 0, 0, 0, 0, 0, 0, 0, 0, 0, 0, 0, 0, 0, 0, 0, 0, 0, 0, 0, 0, 0, 0, 0, 0, 0, 0, 0, 0, 0, 0, 0, 0, 0, 0, 0, 0, 0, 0, 0, 0, 0, 0, 0, 0, 0, 0, 0, 0, 0, 0, 0, 0, 0, 0, 0, 0, 0, 0, 0, 0, 0, 0, 0, 0, 0, 0, 0, 0, 0, 0, 0, 0, 0, 0, 0, 0, 0, 0, 0, 0, 0, 0, 0, 0, 0, 0, 0, 0, 0, 0, 0, 0, 0, 0, 0, 0, 0, 0, 0, 0, 0, 0, 0, 0, 0, 0, 0, 0, 0, 0, 0, 0, 0, 0, 0, 0, 0, 0, 0, 0, 0, 0, 0, 0, 0, 0, 0, 0, 0, 0, 0, 0, 0, 0, 0, 0, 0, 0, 0, 0, 0, 0, 0, 0, 0, 0, 0, 0, 0, 0, 0, 0, 0, 0, 0, 0, 0, 0, 0, 0, 0, 0, 0, 0, 0, 0, 0, 0, 0, 0, 0, 0, 0, 0, 0, 0, 0, 0, 0, 0, 0, 0, 0, 0, 0, 0, 0, 0, 0, 0, 0, 0, 0, 0, 0, 0, 0, 0, 0, 0, 0, 0, 0, 0, 0, 0, 0, 0, 0, 0, 0, 0, 0, 0, 0, 0, 0, 0, 0, 0, 0, 0, 0, 0, 0, 0, 0, 0, 0, 0, 0, 0, 0, 0, 0, 0, 0, 0, 0, 0, 0, 0, 0, 0, 0, 0, 0, 0, 0, 0, 0, 0, 0, 0, 0, 0, 0, 0, 0, 0, 0, 0, 0, 0, 0, 0, 0, 0, 0, 0, 0, 0, 0, 0, 0, 0, 0, 0, 0, 0, 0, 0, 0, 0, 0, 0, 0, 0, 0, 0, 0, 0, 0, 0, 0, 0, 0, 0, 0, 0, 0, 0, 0, 0, 0, 0, 0, 0, 0, 0, 0, 0, 0, 0, 0, 0, 0, 0, 0, 0, 0, 0, 0, 0, 0, 0, 0, 0, 0, 0, 0, 0, 0, 0, 0, 0, 0, 0, 0, 0, 0, 0, 0, 0, 0, 0, 0, 0, 0, 0, 0, 0, 0, 0, 0, 0, 0, 0, 0, 0, 0, 0, 0, 0, 0, 0, 0, 0, 0, 0, 0]'"
      ]
     },
     "execution_count": 8,
     "metadata": {},
     "output_type": "execute_result"
    }
   ],
   "source": [
    "str(env.contract_ids)"
   ]
  },
  {
   "cell_type": "markdown",
   "id": "d2ce84c7-fdd0-441a-9787-775fa74106ad",
   "metadata": {},
   "source": [
    "### vocabulary generation\n",
    "iterating through a lot of contracts to determine a vocabulary; note that ideally this should come from the solc manual, but I'm in a rush"
   ]
  },
  {
   "cell_type": "code",
   "execution_count": 7,
   "id": "459e080c-1d2c-4af7-8494-d49fbab09ed9",
   "metadata": {},
   "outputs": [],
   "source": [
    "import os"
   ]
  },
  {
   "cell_type": "code",
   "execution_count": 9,
   "id": "20596fde-7919-430a-b917-ced2ff0c439c",
   "metadata": {},
   "outputs": [
    {
     "name": "stdout",
     "output_type": "stream",
     "text": [
      "# processing conversions3.sol\n",
      "    solc 0.6.12 failed, try another version\n",
      "    solc 0.5.17 failed, try another version\n",
      "# processing mint_MMI.sol\n",
      "# processing conversions2.sol\n",
      "    solc 0.6.12 failed, try another version\n",
      "    solc 0.5.17 failed, try another version\n",
      "# processing sum_loop.sol\n",
      "    solc 0.6.12 failed, try another version\n",
      "    solc 0.5.17 failed, try another version\n",
      "# processing mod1.sol\n",
      "    solc 0.6.12 failed, try another version\n",
      "    solc 0.5.17 failed, try another version\n",
      "# processing conversions1.sol\n",
      "    solc 0.6.12 failed, try another version\n",
      "    solc 0.5.17 failed, try another version\n",
      "# processing structs.sol\n",
      "# processing asm.sol\n",
      "# processing conversions5.sol\n",
      "    solc 0.6.12 failed, try another version\n",
      "    solc 0.5.17 failed, try another version\n",
      "# processing if3.sol\n",
      "    solc 0.6.12 failed, try another version\n",
      "    solc 0.5.17 failed, try another version\n",
      "# processing if2.sol\n",
      "    solc 0.6.12 failed, try another version\n",
      "    solc 0.5.17 failed, try another version\n",
      "# processing conversions4.sol\n",
      "    solc 0.6.12 failed, try another version\n",
      "    solc 0.5.17 failed, try another version\n",
      "# processing conversions6.sol\n",
      "    solc 0.6.12 failed, try another version\n",
      "    solc 0.5.17 failed, try another version\n",
      "# processing loops.sol\n",
      "    solc 0.6.12 failed, try another version\n",
      "    solc 0.5.17 failed, try another version\n",
      "# processing map_struct.sol\n",
      "# processing signed.sol\n",
      "    solc 0.6.12 failed, try another version\n",
      "    solc 0.5.17 failed, try another version\n",
      "# processing pure_call1.sol\n",
      "    solc 0.6.12 failed, try another version\n",
      "    solc 0.5.17 failed, try another version\n",
      "# processing libraries.sol\n",
      "# processing safemath.sol\n",
      "# processing pure_call2.sol\n",
      "    solc 0.6.12 failed, try another version\n",
      "    solc 0.5.17 failed, try another version\n",
      "# processing inherit2.sol\n",
      "    solc 0.6.12 failed, try another version\n",
      "    solc 0.5.17 failed, try another version\n",
      "# processing array2.sol\n",
      "    solc 0.6.12 failed, try another version\n",
      "    solc 0.5.17 failed, try another version\n",
      "# processing mint_patterns.sol\n",
      "# processing map.sol\n",
      "    solc 0.6.12 failed, try another version\n",
      "    solc 0.5.17 failed, try another version\n",
      "# processing var.sol\n",
      "    solc 0.6.12 failed, try another version\n",
      "    solc 0.5.17 failed, try another version\n",
      "# processing sol_bool.sol\n",
      "# processing array.sol\n",
      "# processing mint_MSI.sol\n",
      "# processing standard_erc20.sol\n",
      "    solc 0.6.12 failed, try another version\n",
      "    solc 0.5.17 failed, try another version\n",
      "# processing composite.sol\n",
      "# processing bytes.sol\n",
      "# processing div_check.sol\n",
      "# processing erc20_cut.sol\n",
      "    solc 0.6.12 failed, try another version\n",
      "    solc 0.5.17 failed, try another version\n",
      "# processing string.sol\n",
      "# processing abort.sol\n",
      "# processing mint_MI.sol\n",
      "# processing ints.sol\n",
      "# processing if.sol\n",
      "    solc 0.6.12 failed, try another version\n",
      "    solc 0.5.17 failed, try another version\n",
      "# processing indexing.sol\n",
      "# processing mul1.sol\n",
      "    solc 0.6.12 failed, try another version\n",
      "    solc 0.5.17 failed, try another version\n",
      "# processing percent.sol\n",
      "# processing fun1.sol\n",
      "# processing mul2.sol\n",
      "    solc 0.6.12 failed, try another version\n",
      "    solc 0.5.17 failed, try another version\n",
      "# processing fun3.sol\n",
      "# processing now.sol\n",
      "    solc 0.6.12 failed, try another version\n",
      "    solc 0.5.17 failed, try another version\n",
      "# processing builtins.sol\n",
      "    solc 0.6.12 failed, try another version\n",
      "# processing fun2.sol\n",
      "# processing conditional.sol\n",
      "# processing fun6.sol\n",
      "# processing inherit.sol\n",
      "# processing fun5.sol\n",
      "# processing fun4.sol\n",
      "    solc 0.6.12 failed, try another version\n",
      "    solc 0.5.17 failed, try another version\n"
     ]
    }
   ],
   "source": [
    "solc_versions = [\"0.6.12\", \"0.5.17\", \"0.4.26\"]\n",
    "file_list = os.listdir(\"/Users/joseph/Desktop/UCSB/21fall/SolidTypes/test/regression/good/\")\n",
    "json_list = []\n",
    "for dfile in file_list:\n",
    "    print(\"# processing {}\".format(dfile))\n",
    "    tmp_contract_path = \"/Users/joseph/Desktop/UCSB/21fall/SolidTypes/test/regression/good/{}\".format(dfile)\n",
    "    for p in solc_versions:\n",
    "        try:\n",
    "            tmp_json = env.get_contract_ast(tmp_contract_path, p)\n",
    "            json_list.append(tmp_json)\n",
    "            break\n",
    "        except:\n",
    "            print(\"    solc {} failed, try another version\".format(p))\n",
    "            continue"
   ]
  },
  {
   "cell_type": "code",
   "execution_count": 10,
   "id": "972b0d4e-3842-4e8b-b934-223ca37361a0",
   "metadata": {},
   "outputs": [],
   "source": [
    "# extract all tokens\n",
    "def rec_extract_tokens(arg_json):\n",
    "    if isinstance(arg_json, dict):\n",
    "        ret_list = []\n",
    "        for p in arg_json.keys():\n",
    "            ret_list += [str(p)]\n",
    "            ret_list += rec_extract_tokens(arg_json[p])\n",
    "        return ret_list\n",
    "    elif isinstance(arg_json, list):\n",
    "        ret_list = []\n",
    "        for p in arg_json:\n",
    "            ret_list += rec_extract_tokens(p)\n",
    "        return ret_list\n",
    "    else:\n",
    "        return [str(arg_json)]\n",
    "\n",
    "from collections import Counter\n",
    "token_counter = Counter({})\n",
    "for tmp_json in json_list:\n",
    "    token_counter.update(rec_extract_tokens(tmp_json))"
   ]
  },
  {
   "cell_type": "code",
   "execution_count": 20,
   "id": "dd43f75e-478b-4167-888a-c85598d3d8fa",
   "metadata": {},
   "outputs": [],
   "source": [
    "# filter vocabulary\n",
    "tmp0_tokens = []\n",
    "for p in token_counter.most_common():\n",
    "    if p[1] <= 10:\n",
    "        # not so frequent, skip\n",
    "        continue\n",
    "    \n",
    "    try:\n",
    "        # skip all numbers\n",
    "        float(p[0])\n",
    "        continue\n",
    "    except:\n",
    "        pass\n",
    "    \n",
    "    # variable name too short, skip, e.g., x, y, z, a\n",
    "    if len(p[0]) <= 1 and p[0].lower() in \"abcdefghijklmnopqrstuvwxyz\":\n",
    "        continue\n",
    "        \n",
    "    # if you reach here, add it to the vocabulary\n",
    "    tmp0_tokens.append(p[0])"
   ]
  },
  {
   "cell_type": "code",
   "execution_count": 23,
   "id": "fdd99288-f7fd-43fe-9abd-345fa11dc947",
   "metadata": {},
   "outputs": [],
   "source": [
    "import pickle\n",
    "with open(\"./token_list0.pkl\", \"wb\") as f:\n",
    "    pickle.dump(tmp0_tokens, f)"
   ]
  },
  {
   "cell_type": "code",
   "execution_count": null,
   "id": "b09bdf50-9467-4fe7-a76d-ebd60b3675c5",
   "metadata": {},
   "outputs": [],
   "source": []
  },
  {
   "cell_type": "code",
   "execution_count": null,
   "id": "8bbad269-972e-41cb-b2b8-4825beec293b",
   "metadata": {},
   "outputs": [],
   "source": []
  },
  {
   "cell_type": "code",
   "execution_count": 6,
   "id": "21a3cc15-c4f9-4388-993e-51eb15268c31",
   "metadata": {},
   "outputs": [],
   "source": [
    "import torch"
   ]
  },
  {
   "cell_type": "code",
   "execution_count": 8,
   "id": "ff7f506e-1961-4f02-88f6-6f7a5f4a64c6",
   "metadata": {},
   "outputs": [],
   "source": [
    "a = torch.rand(5,4,3)"
   ]
  },
  {
   "cell_type": "code",
   "execution_count": 10,
   "id": "3eca51a2-b2c3-4e25-92a2-a9395762b032",
   "metadata": {},
   "outputs": [
    {
     "data": {
      "text/plain": [
       "torch.Size([4, 5, 3])"
      ]
     },
     "execution_count": 10,
     "metadata": {},
     "output_type": "execute_result"
    }
   ],
   "source": [
    "a.permute(1,0,2).size()"
   ]
  },
  {
   "cell_type": "code",
   "execution_count": 13,
   "id": "1012c042-ca58-4808-8111-5aab9f66b1df",
   "metadata": {},
   "outputs": [
    {
     "data": {
      "text/plain": [
       "torch.Size([5, 1, 3])"
      ]
     },
     "execution_count": 13,
     "metadata": {},
     "output_type": "execute_result"
    }
   ],
   "source": [
    "a[:,-1:,:].size()"
   ]
  },
  {
   "cell_type": "code",
   "execution_count": 16,
   "id": "eaa3f922-82ff-4aef-810c-c8fafb82f30d",
   "metadata": {},
   "outputs": [
    {
     "data": {
      "text/plain": [
       "torch.Size([256])"
      ]
     },
     "execution_count": 16,
     "metadata": {},
     "output_type": "execute_result"
    }
   ],
   "source": [
    "torch.rand(1, 256).squeeze(0).size()"
   ]
  },
  {
   "cell_type": "code",
   "execution_count": null,
   "id": "2f3de97f-2291-4007-971f-2d0d54036202",
   "metadata": {},
   "outputs": [],
   "source": []
  }
 ],
 "metadata": {
  "kernelspec": {
   "display_name": "venti",
   "language": "python",
   "name": "venti"
  },
  "language_info": {
   "codemirror_mode": {
    "name": "ipython",
    "version": 3
   },
   "file_extension": ".py",
   "mimetype": "text/x-python",
   "name": "python",
   "nbconvert_exporter": "python",
   "pygments_lexer": "ipython3",
   "version": "3.9.5"
  }
 },
 "nbformat": 4,
 "nbformat_minor": 5
}
