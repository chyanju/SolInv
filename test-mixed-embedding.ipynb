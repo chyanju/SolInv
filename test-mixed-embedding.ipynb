{
 "cells": [
  {
   "cell_type": "code",
   "execution_count": 28,
   "id": "f3b4a27d-2dfe-4a88-a3f4-5558d24f5413",
   "metadata": {},
   "outputs": [],
   "source": [
    "import torch\n",
    "import torch.functional as F\n",
    "\n",
    "from torch.nn import Embedding"
   ]
  },
  {
   "cell_type": "code",
   "execution_count": 19,
   "id": "f627a7bb-43c7-4f74-8ca0-4d2e67723d0e",
   "metadata": {},
   "outputs": [
    {
     "data": {
      "text/plain": [
       "tensor([[14,  6, 17, 19],\n",
       "        [12,  9,  9,  9],\n",
       "        [16, 11, 17, 11],\n",
       "        [ 8, 15,  4,  0],\n",
       "        [ 4, 13,  9, 13]])"
      ]
     },
     "execution_count": 19,
     "metadata": {},
     "output_type": "execute_result"
    }
   ],
   "source": [
    "batch_inv = torch.randint(low=0,high=20,size=(5,4))\n",
    "batch_inv"
   ]
  },
  {
   "cell_type": "code",
   "execution_count": 20,
   "id": "f0f80504-fb6b-48c3-b416-52ada0680562",
   "metadata": {},
   "outputs": [
    {
     "data": {
      "text/plain": [
       "tensor([[ True, False,  True,  True],\n",
       "        [ True, False, False, False],\n",
       "        [ True,  True,  True,  True],\n",
       "        [False,  True, False, False],\n",
       "        [False,  True, False,  True]])"
      ]
     },
     "execution_count": 20,
     "metadata": {},
     "output_type": "execute_result"
    }
   ],
   "source": [
    "fixed_mask = batch_inv >= 10\n",
    "fixed_mask"
   ]
  },
  {
   "cell_type": "code",
   "execution_count": 21,
   "id": "940b1504-677e-48c1-9483-86342ee3a2eb",
   "metadata": {},
   "outputs": [
    {
     "data": {
      "text/plain": [
       "tensor([[0, 6, 0, 0],\n",
       "        [0, 9, 9, 9],\n",
       "        [0, 0, 0, 0],\n",
       "        [8, 0, 4, 0],\n",
       "        [4, 0, 9, 0]])"
      ]
     },
     "execution_count": 21,
     "metadata": {},
     "output_type": "execute_result"
    }
   ],
   "source": [
    "fixed_copy = batch_inv.clone()\n",
    "fixed_copy[fixed_mask] = 0\n",
    "fixed_copy"
   ]
  },
  {
   "cell_type": "code",
   "execution_count": 25,
   "id": "6794c398-97ab-43f2-9329-ee711b4f1999",
   "metadata": {},
   "outputs": [
    {
     "data": {
      "text/plain": [
       "tensor([[False,  True, False, False],\n",
       "        [False,  True,  True,  True],\n",
       "        [False, False, False, False],\n",
       "        [ True, False,  True,  True],\n",
       "        [ True, False,  True, False]])"
      ]
     },
     "execution_count": 25,
     "metadata": {},
     "output_type": "execute_result"
    }
   ],
   "source": [
    "~fixed_mask"
   ]
  },
  {
   "cell_type": "code",
   "execution_count": 35,
   "id": "4c692971-d96a-4cc0-a659-6639c99fa097",
   "metadata": {},
   "outputs": [
    {
     "data": {
      "text/plain": [
       "tensor([[14, 10, 17, 19],\n",
       "        [12, 10, 10, 10],\n",
       "        [16, 11, 17, 11],\n",
       "        [10, 15, 10, 10],\n",
       "        [10, 13, 10, 13]])"
      ]
     },
     "execution_count": 35,
     "metadata": {},
     "output_type": "execute_result"
    }
   ],
   "source": [
    "flex_copy = batch_inv.clone()\n",
    "flex_copy[~fixed_mask] = 10\n",
    "flex_copy"
   ]
  },
  {
   "cell_type": "code",
   "execution_count": 36,
   "id": "7653d24b-f52f-48fc-93bd-b5b7bef41ed1",
   "metadata": {},
   "outputs": [
    {
     "data": {
      "text/plain": [
       "tensor([[4, 0, 7, 9],\n",
       "        [2, 0, 0, 0],\n",
       "        [6, 1, 7, 1],\n",
       "        [0, 5, 0, 0],\n",
       "        [0, 3, 0, 3]])"
      ]
     },
     "execution_count": 36,
     "metadata": {},
     "output_type": "execute_result"
    }
   ],
   "source": [
    "flex_copy-10"
   ]
  },
  {
   "cell_type": "code",
   "execution_count": 31,
   "id": "27b52380-af3c-4730-97bf-5cf6a83561d0",
   "metadata": {},
   "outputs": [
    {
     "data": {
      "text/plain": [
       "tensor([[0.3420, 0.7614, 0.9955, 0.5311, 0.3043, 0.5155, 0.6642, 0.2290, 0.6179,\n",
       "         0.6790, 0.8215, 0.3826, 0.3912],\n",
       "        [0.9008, 0.4130, 0.5577, 0.0614, 0.0099, 0.7767, 0.2097, 0.2365, 0.4391,\n",
       "         0.3240, 0.1906, 0.6112, 0.4378],\n",
       "        [0.6848, 0.3371, 0.7926, 0.0330, 0.5671, 0.7052, 0.7922, 0.5666, 0.5071,\n",
       "         0.0118, 0.8746, 0.1881, 0.2337],\n",
       "        [0.7446, 0.0940, 0.0045, 0.9732, 0.8849, 0.3228, 0.8750, 0.2587, 0.2081,\n",
       "         0.8355, 0.2859, 0.1429, 0.2595],\n",
       "        [0.0772, 0.6965, 0.0908, 0.5476, 0.1248, 0.1615, 0.7567, 0.6785, 0.4268,\n",
       "         0.3875, 0.7127, 0.2633, 0.7720],\n",
       "        [0.0825, 0.5535, 0.7698, 0.2817, 0.3759, 0.8157, 0.9447, 0.3344, 0.3152,\n",
       "         0.8779, 0.9034, 0.3291, 0.8548],\n",
       "        [0.6054, 0.3469, 0.1841, 0.5090, 0.8071, 0.3714, 0.8342, 0.1941, 0.5893,\n",
       "         0.5650, 0.7051, 0.8628, 0.1596],\n",
       "        [0.5792, 0.9121, 0.7769, 0.3200, 0.5750, 0.3594, 0.0044, 0.6752, 0.7962,\n",
       "         0.6210, 0.5515, 0.7893, 0.4421],\n",
       "        [0.3792, 0.9064, 0.6345, 0.5842, 0.1363, 0.1256, 0.8659, 0.1005, 0.4828,\n",
       "         0.1730, 0.9210, 0.5933, 0.7413],\n",
       "        [0.7519, 0.5183, 0.9642, 0.5317, 0.5886, 0.1216, 0.5157, 0.7008, 0.6318,\n",
       "         0.6181, 0.5566, 0.3205, 0.4566]])"
      ]
     },
     "execution_count": 31,
     "metadata": {},
     "output_type": "execute_result"
    }
   ],
   "source": [
    "flex_weight = torch.rand(10,13)\n",
    "flex_weight"
   ]
  },
  {
   "cell_type": "code",
   "execution_count": null,
   "id": "42898b28-7ad0-4a1c-aed3-04ebd912e56a",
   "metadata": {},
   "outputs": [],
   "source": []
  },
  {
   "cell_type": "code",
   "execution_count": 29,
   "id": "d2f5e67f-e208-4e7d-82b1-ec63ed822a93",
   "metadata": {},
   "outputs": [],
   "source": [
    "fixed_embedding = Embedding( num_embeddings=10, embedding_dim=13, padding_idx=0 )"
   ]
  },
  {
   "cell_type": "code",
   "execution_count": 37,
   "id": "f1df280e-03ec-4088-bbc9-253195493568",
   "metadata": {},
   "outputs": [
    {
     "data": {
      "text/plain": [
       "tensor([[[0.0772, 0.6965, 0.0908, 0.5476, 0.1248, 0.1615, 0.7567, 0.6785,\n",
       "          0.4268, 0.3875, 0.7127, 0.2633, 0.7720],\n",
       "         [0.3420, 0.7614, 0.9955, 0.5311, 0.3043, 0.5155, 0.6642, 0.2290,\n",
       "          0.6179, 0.6790, 0.8215, 0.3826, 0.3912],\n",
       "         [0.5792, 0.9121, 0.7769, 0.3200, 0.5750, 0.3594, 0.0044, 0.6752,\n",
       "          0.7962, 0.6210, 0.5515, 0.7893, 0.4421],\n",
       "         [0.7519, 0.5183, 0.9642, 0.5317, 0.5886, 0.1216, 0.5157, 0.7008,\n",
       "          0.6318, 0.6181, 0.5566, 0.3205, 0.4566]],\n",
       "\n",
       "        [[0.6848, 0.3371, 0.7926, 0.0330, 0.5671, 0.7052, 0.7922, 0.5666,\n",
       "          0.5071, 0.0118, 0.8746, 0.1881, 0.2337],\n",
       "         [0.3420, 0.7614, 0.9955, 0.5311, 0.3043, 0.5155, 0.6642, 0.2290,\n",
       "          0.6179, 0.6790, 0.8215, 0.3826, 0.3912],\n",
       "         [0.3420, 0.7614, 0.9955, 0.5311, 0.3043, 0.5155, 0.6642, 0.2290,\n",
       "          0.6179, 0.6790, 0.8215, 0.3826, 0.3912],\n",
       "         [0.3420, 0.7614, 0.9955, 0.5311, 0.3043, 0.5155, 0.6642, 0.2290,\n",
       "          0.6179, 0.6790, 0.8215, 0.3826, 0.3912]],\n",
       "\n",
       "        [[0.6054, 0.3469, 0.1841, 0.5090, 0.8071, 0.3714, 0.8342, 0.1941,\n",
       "          0.5893, 0.5650, 0.7051, 0.8628, 0.1596],\n",
       "         [0.9008, 0.4130, 0.5577, 0.0614, 0.0099, 0.7767, 0.2097, 0.2365,\n",
       "          0.4391, 0.3240, 0.1906, 0.6112, 0.4378],\n",
       "         [0.5792, 0.9121, 0.7769, 0.3200, 0.5750, 0.3594, 0.0044, 0.6752,\n",
       "          0.7962, 0.6210, 0.5515, 0.7893, 0.4421],\n",
       "         [0.9008, 0.4130, 0.5577, 0.0614, 0.0099, 0.7767, 0.2097, 0.2365,\n",
       "          0.4391, 0.3240, 0.1906, 0.6112, 0.4378]],\n",
       "\n",
       "        [[0.3420, 0.7614, 0.9955, 0.5311, 0.3043, 0.5155, 0.6642, 0.2290,\n",
       "          0.6179, 0.6790, 0.8215, 0.3826, 0.3912],\n",
       "         [0.0825, 0.5535, 0.7698, 0.2817, 0.3759, 0.8157, 0.9447, 0.3344,\n",
       "          0.3152, 0.8779, 0.9034, 0.3291, 0.8548],\n",
       "         [0.3420, 0.7614, 0.9955, 0.5311, 0.3043, 0.5155, 0.6642, 0.2290,\n",
       "          0.6179, 0.6790, 0.8215, 0.3826, 0.3912],\n",
       "         [0.3420, 0.7614, 0.9955, 0.5311, 0.3043, 0.5155, 0.6642, 0.2290,\n",
       "          0.6179, 0.6790, 0.8215, 0.3826, 0.3912]],\n",
       "\n",
       "        [[0.3420, 0.7614, 0.9955, 0.5311, 0.3043, 0.5155, 0.6642, 0.2290,\n",
       "          0.6179, 0.6790, 0.8215, 0.3826, 0.3912],\n",
       "         [0.7446, 0.0940, 0.0045, 0.9732, 0.8849, 0.3228, 0.8750, 0.2587,\n",
       "          0.2081, 0.8355, 0.2859, 0.1429, 0.2595],\n",
       "         [0.3420, 0.7614, 0.9955, 0.5311, 0.3043, 0.5155, 0.6642, 0.2290,\n",
       "          0.6179, 0.6790, 0.8215, 0.3826, 0.3912],\n",
       "         [0.7446, 0.0940, 0.0045, 0.9732, 0.8849, 0.3228, 0.8750, 0.2587,\n",
       "          0.2081, 0.8355, 0.2859, 0.1429, 0.2595]]])"
      ]
     },
     "execution_count": 37,
     "metadata": {},
     "output_type": "execute_result"
    }
   ],
   "source": [
    "torch.nn.functional.embedding( \n",
    "    input=flex_copy-10, weight=flex_weight, padding_idx=0, \n",
    "    max_norm=fixed_embedding.max_norm, norm_type=fixed_embedding.norm_type,\n",
    "    scale_grad_by_freq=fixed_embedding.scale_grad_by_freq, sparse=fixed_embedding.sparse,\n",
    ")"
   ]
  },
  {
   "cell_type": "code",
   "execution_count": null,
   "id": "df369b2d-8175-4c6f-b7d4-eb5bec70049e",
   "metadata": {},
   "outputs": [],
   "source": []
  }
 ],
 "metadata": {
  "kernelspec": {
   "display_name": "venti",
   "language": "python",
   "name": "venti"
  },
  "language_info": {
   "codemirror_mode": {
    "name": "ipython",
    "version": 3
   },
   "file_extension": ".py",
   "mimetype": "text/x-python",
   "name": "python",
   "nbconvert_exporter": "python",
   "pygments_lexer": "ipython3",
   "version": "3.9.5"
  }
 },
 "nbformat": 4,
 "nbformat_minor": 5
}
